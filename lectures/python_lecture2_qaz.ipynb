{
 "cells": [
  {
   "cell_type": "markdown",
   "metadata": {},
   "source": [
    "# №2 Дәріс: Шартты операторлар, модульдар және циклдер мен тізімдерге кіріспе\n",
    "\n",
    "**Дәріс мақсаттары:**\n",
    "*   Логикалық (boolean) деректер типімен (`bool`) танысу.\n",
    "*   Салыстыру және логикалық операторларды зерттеу.\n",
    "*   Бағдарламада тармақталуды құру үшін `if`, `elif`, `else` шартты конструкцияларын меңгеру.\n",
    "*   `math` модулі мысалында модульдерді қосуды және олардың функцияларын қолдануды үйрену."
   ]
  },
  {
   "cell_type": "markdown",
   "metadata": {},
   "source": [
    "## 1-бөлім: Логика негіздері\n",
    "\n",
    "Осы уақытқа дейін біздің бағдарламаларымыз қатаң түрде сызықтық орындалды — бір командадан кейін екіншісі. Алайда, бағдарламаның белгілі бір шарттарға байланысты әртүрлі әрекет етуі жиі талап етіледі. Бұл үшін шартты конструкциялар қажет."
   ]
  },
  {
   "cell_type": "markdown",
   "metadata": {},
   "source": [
    "### 1.1. Логикалық (Boolean) деректер типі (`bool`)\n",
    "\n",
    "Кез келген логиканың негізінде \"ақиқат\" және \"жалған\" ұғымдары жатыр. Python-да бұл үшін арнайы `bool` деректер типі бар, ол тек екі мәнді қабылдай алады:\n",
    "*   `True` — ақиқат\n",
    "*   `False` — жалған\n",
    "\n",
    "Бұл сөздердің бас әріппен жазылатынына назар аударыңыз."
   ]
  },
  {
   "cell_type": "code",
   "execution_count": null,
   "metadata": {},
   "outputs": [],
   "source": [
    "is_student = True\n",
    "is_admin = False\n",
    "\n",
    "print(\"Студент болып табылады ма:\", is_student)\n",
    "print(\"Деректер типі:\", type(is_student))"
   ]
  },
  {
   "cell_type": "markdown",
   "metadata": {},
   "source": [
    "### 1.2. Салыстыру операторлары\n",
    "\n",
    "`True` және `False` мәндері көбінесе екі мәнді салыстыру нәтижесінде пайда болады. \n",
    "\n",
    "Негізгі салыстыру операторлары:\n",
    "*   `==` — Тең (назар аударыңыз, **екі** теңдік белгісі!)\n",
    "*   `!=` — Тең емес\n",
    "*   `>` — Үлкен\n",
    "*   `<` — Кіші\n",
    "*   `>=` — Үлкен немесе тең\n",
    "*   `<=` — Кіші немесе тең"
   ]
  },
  {
   "cell_type": "markdown",
   "metadata": {},
   "source": [
    "Сандарды салыстыру:"
   ]
  },
  {
   "cell_type": "code",
   "execution_count": null,
   "metadata": {},
   "outputs": [],
   "source": [
    "print(\"5 == 5:\", 5 == 5)"
   ]
  },
  {
   "cell_type": "code",
   "execution_count": null,
   "metadata": {},
   "outputs": [],
   "source": [
    "print(\"5 != 5:\", 5 != 5)"
   ]
  },
  {
   "cell_type": "code",
   "execution_count": null,
   "metadata": {},
   "outputs": [],
   "source": [
    "print(\"10 > 3:\", 10 > 3)"
   ]
  },
  {
   "cell_type": "markdown",
   "metadata": {},
   "source": [
    "Жолдарды салыстыру (алфавиттік тәртіппен жүреді):"
   ]
  },
  {
   "cell_type": "code",
   "execution_count": null,
   "metadata": {},
   "outputs": [],
   "source": [
    "print(\"'apple' == 'apple':\", 'apple' == 'apple')"
   ]
  },
  {
   "cell_type": "code",
   "execution_count": null,
   "metadata": {},
   "outputs": [],
   "source": [
    "print(\"'apple' == 'Apple':\", 'apple' == 'Apple') # Регистрдің маңызы бар!"
   ]
  },
  {
   "cell_type": "markdown",
   "metadata": {},
   "source": [
    "## 2-бөлім: Шартты конструкциялар\n",
    "\n",
    "### 2.1. `if` (Егер) конструкциясы\n",
    "\n",
    "`if` операторы код блогын тек берілген шарт ақиқат (`True`) болғанда ғана орындауға мүмкіндік береді.\n",
    "\n",
    "**Синтаксис:**\n",
    "```python\n",
    "if шарт:\n",
    "    # Шарт ақиқат болса орындалатын код блогы\n",
    "    # 4 бос орын шегінісі маңызды!\n",
    "```"
   ]
  },
  {
   "cell_type": "code",
   "execution_count": null,
   "metadata": {},
   "outputs": [],
   "source": [
    "temperature = 30\n",
    "\n",
    "if temperature > 25:\n",
    "    print(\"Бүгін ыстық!\")\n",
    "    print(\"Бас киім киюді ұмытпаңыз.\")\n",
    "\n",
    "print(\"Бағдарлама аяқталды.\")"
   ]
  },
  {
   "cell_type": "markdown",
   "metadata": {},
   "source": [
    "### 2.2. `if-else` (Егер-Әйтпесе) конструкциясы\n",
    "\n",
    "`else` конструкциясы `if` шарты жалған (`False`) болған жағдайда орындалатын балама код блогын қосады."
   ]
  },
  {
   "cell_type": "code",
   "execution_count": null,
   "metadata": {},
   "outputs": [],
   "source": [
    "age = int(input(\"Жасыңызды енгізіңіз: \"))\n",
    "\n",
    "if age >= 18:\n",
    "    print(\"Рұқсат етілді.\")\n",
    "else:\n",
    "    print(\"Тыйым салынған. Сіз әлі 18-ге толмадыңыз.\")"
   ]
  },
  {
   "cell_type": "markdown",
   "metadata": {},
   "source": [
    "### 2.3. `if-elif-else` (Егер-Әйтпесе егер-Әйтпесе) конструкциясы\n",
    "\n",
    "`elif` (`else if`-тің қысқартылған түрі) бірнеше шартты бірінен соң бірін тексеруге мүмкіндік береді. Бұл \"тексерулер тізбегін\" құру үшін қолданылады."
   ]
  },
  {
   "cell_type": "code",
   "execution_count": null,
   "metadata": {},
   "outputs": [],
   "source": [
    "grade = int(input(\"Бағаңызды енгізіңіз (0-ден 100-ге дейін): \"))\n",
    "\n",
    "if grade >= 90:\n",
    "    print(\"Баға: A (Өте жақсы)\")\n",
    "elif grade >= 75:\n",
    "    print(\"Баға: B (Жақсы)\")\n",
    "elif grade >= 50:\n",
    "    print(\"Баға: C (Қанағаттанарлық)\")\n",
    "else:\n",
    "    print(\"Баға: F (Қанағаттанарлықсыз)\")"
   ]
  },
  {
   "cell_type": "markdown",
   "metadata": {},
   "source": [
    "### 2.4. `and`, `or`, `not` логикалық операторлары\n",
    "\n",
    "Бұл операторлар бірнеше логикалық өрнектерді біріктіруге мүмкіндік береді:\n",
    "*   `and` (ЖӘНЕ) — егер **екі** шарт та ақиқат болса ғана ақиқат.\n",
    "*   `or` (НЕМЕСЕ) — егер **кем дегенде бір** шарт ақиқат болса ақиқат.\n",
    "*   `not` (ЕМЕС) — мәнді керісінше өзгертеді (`True` `False` болады және керісінше)."
   ]
  },
  {
   "cell_type": "markdown",
   "metadata": {},
   "source": [
    "`and` операторымен мысал:"
   ]
  },
  {
   "cell_type": "code",
   "execution_count": null,
   "metadata": {},
   "outputs": [],
   "source": [
    "age = 25\n",
    "has_license = True\n",
    "\n",
    "if age >= 18 and has_license == True:\n",
    "    print(\"Сіз көлік жүргізе аласыз.\")"
   ]
  },
  {
   "cell_type": "markdown",
   "metadata": {},
   "source": [
    "`or` операторымен мысал:"
   ]
  },
  {
   "cell_type": "code",
   "execution_count": null,
   "metadata": {},
   "outputs": [],
   "source": [
    "day = \"Sunday\"\n",
    "\n",
    "if day == \"Saturday\" or day == \"Sunday\":\n",
    "    print(\"Бүгін демалыс!\")"
   ]
  },
  {
   "cell_type": "markdown",
   "metadata": {},
   "source": [
    "`not` операторымен мысал:"
   ]
  },
  {
   "cell_type": "code",
   "execution_count": null,
   "metadata": {},
   "outputs": [],
   "source": [
    "is_raining = False\n",
    "\n",
    "if not is_raining:\n",
    "    print(\"Жаңбыр жоқ, серуендеуге болады.\")"
   ]
  },
  {
   "cell_type": "markdown",
   "metadata": {},
   "source": [
    "### 2.5. Тернарлық шартты оператор\n",
    "\n",
    "Айнымалыға екі мәннің бірін тағайындау үшін қарапайым `if-else` конструкцияларының орнына ықшамды жазбаны — **тернарлық операторды** қолдануға болады.\n",
    "\n",
    "**Синтаксис:** `егер_True_болса_мән if шарт else егер_False_болса_мән`"
   ]
  },
  {
   "cell_type": "markdown",
   "metadata": {},
   "source": [
    "Кәдімгі жазбаны салыстырайық:"
   ]
  },
  {
   "cell_type": "code",
   "execution_count": null,
   "metadata": {},
   "outputs": [],
   "source": [
    "age = 20\n",
    "status = \"\"\n",
    "if age >= 18:\n",
    "    status = \"кәмелетке толған\"\n",
    "else:\n",
    "    status = \"кәмелетке толмаған\"\n",
    "\n",
    "print(status)"
   ]
  },
  {
   "cell_type": "markdown",
   "metadata": {},
   "source": [
    "Және тернарлық оператормен жазба:"
   ]
  },
  {
   "cell_type": "code",
   "execution_count": null,
   "metadata": {},
   "outputs": [],
   "source": [
    "age = 20\n",
    "status = \"кәмелетке толған\" if age >= 18 else \"кәмелетке толмаған\"\n",
    "print(status)"
   ]
  },
  {
   "cell_type": "markdown",
   "metadata": {},
   "source": [
    "## 3-бөлім: Модульдер\n",
    "\n",
    "### 3.1. Модуль деген не және ол не үшін қажет?\n",
    "\n",
    "**Модуль** — бұл дайын функциялар, айнымалылар және кластардан тұратын Python коды бар файл. Модульдер барлық кодты нөлден жазбай, бұрыннан бар, тексерілген шешімдерді пайдалануға мүмкіндік береді.\n",
    "\n",
    "Python **стандартты кітапхана** деп аталатын көптеген кіріктірілген модульдермен бірге келеді. Бастапқыда ең пайдалы модульдердің бірі — `math` модулі."
   ]
  },
  {
   "cell_type": "markdown",
   "metadata": {},
   "source": [
    "### 3.2. `math` модулін қосу және пайдалану\n",
    "\n",
    "Модульдегі функцияларды пайдалану үшін алдымен оны `import` командасымен **импорттау** керек."
   ]
  },
  {
   "cell_type": "code",
   "execution_count": null,
   "metadata": {},
   "outputs": [],
   "source": [
    "import math # math модулін импорттаймыз"
   ]
  },
  {
   "cell_type": "markdown",
   "metadata": {},
   "source": [
    "Импорттағаннан кейін оның функцияларына нүкте арқылы қол жеткізе аламыз: `модуль_аты.функция_аты()`.\n",
    "\n",
    "`math` модулінің кейбір пайдалы функциялары:\n",
    "- `math.sqrt(x)` — `x`-тен квадрат түбірді есептейді.\n",
    "- `math.pow(x, y)` — `x`-ті `y` дәрежесіне шығарады.\n",
    "- `math.ceil(x)` — `x`-ті ең жақын бүтін санға **жоғары** қарай дөңгелектейді.\n",
    "- `math.floor(x)` — `x`-ті ең жақын бүтін санға **төмен** қарай дөңгелектейді.\n",
    "- `math.pi` — Пи санын қамтитын тұрақты."
   ]
  },
  {
   "cell_type": "code",
   "execution_count": null,
   "metadata": {},
   "outputs": [],
   "source": [
    "number = 16\n",
    "root = math.sqrt(number)\n",
    "print(f\"{number} санының квадрат түбірі {root}-ке тең\")"
   ]
  },
  {
   "cell_type": "code",
   "execution_count": null,
   "metadata": {},
   "outputs": [],
   "source": [
    "print(f\"2-нің 10-дәрежесі {math.pow(2, 10)}-ге тең\")"
   ]
  },
  {
   "cell_type": "code",
   "execution_count": null,
   "metadata": {},
   "outputs": [],
   "source": [
    "number = 3.14\n",
    "print(f\"{number} саны жоғары қарай дөңгелектелді: {math.ceil(number)}\")\n",
    "print(f\"{number} саны төмен қарай дөңгелектелді: {math.floor(number)}\")"
   ]
  },
  {
   "cell_type": "code",
   "execution_count": null,
   "metadata": {},
   "outputs": [],
   "source": [
    "radius = 5\n",
    "circle_area = math.pi * (radius ** 2)\n",
    "print(f\"Радиусы {radius} болатын шеңбердің ауданы {circle_area}-ке тең\")"
   ]
  },
  {
   "cell_type": "markdown",
   "metadata": {},
   "source": [
    "## 3.3. Функцияларды/класстарды таңдап импорттау\n",
    "\n",
    "Модульден тек қажетті элементтерді импорттау."
   ]
  },
  {
   "cell_type": "code",
   "execution_count": null,
   "metadata": {},
   "outputs": [],
   "source": [
    "from math import sqrt, pi\n",
    "\n",
    "print(sqrt(25))  # 5.0\n",
    "print(pi)        # 3.141592653589793"
   ]
  },
  {
   "cell_type": "markdown",
   "metadata": {},
   "source": [
    "## 3.4. Алиаспен (лақап атпен) импорттау\n",
    "\n",
    "Ұзын атауларды қысқарту үшін ыңғайлы."
   ]
  },
  {
   "cell_type": "code",
   "execution_count": null,
   "metadata": {},
   "outputs": [],
   "source": [
    "import math as m\n",
    "\n",
    "print(m.factorial(5))  # 120"
   ]
  },
  {
   "cell_type": "markdown",
   "metadata": {},
   "source": [
    "Сондай-ақ жеке функцияларға да лақап ат беруге болады:"
   ]
  },
  {
   "cell_type": "code",
   "execution_count": null,
   "metadata": {},
   "outputs": [],
   "source": [
    "from math import factorial as fact\n",
    "\n",
    "print(fact(6))  # 720"
   ]
  },
  {
   "cell_type": "markdown",
   "metadata": {},
   "source": [
    "## 3.5 Барлық мазмұнды импорттау (import *)\n",
    "\n",
    "Барлығын импорттайды, бірақ атаулар кеңістігін ластайтындықтан ұсынылмайды."
   ]
  },
  {
   "cell_type": "code",
   "execution_count": null,
   "metadata": {},
   "outputs": [],
   "source": [
    "from math import *\n",
    "\n",
    "print(sqrt(36))  # 6.0\n",
    "print(sin(pi/2)) # 1.0"
   ]
  },
  {
   "cell_type": "markdown",
   "metadata": {},
   "source": [
    "## 4-бөлім: Тізімдер мен циклдерге кіріспе\n",
    "\n",
    "### 4.1. Тізімдер (`list`)\n",
    "\n",
    "**Тізім** — бұл реттелген, **өзгертілетін** элементтер жиынтығы. Бір тізімде әртүрлі типтегі деректер сақталуы мүмкін.\n",
    "\n",
    "Тізімдер шаршы жақшалар `[]` арқылы құрылады, элементтер үтірмен бөлінеді."
   ]
  },
  {
   "cell_type": "code",
   "execution_count": null,
   "metadata": {},
   "outputs": [],
   "source": [
    "my_list = [10, \"сәлем\", 3.14, True]\n",
    "print(my_list)"
   ]
  },
  {
   "cell_type": "markdown",
   "metadata": {},
   "source": [
    "#### Элементтерге қол жеткізу және кесінділер\n",
    "Тізім элементтеріне **индекс** (0-ден бастап) арқылы қол жеткізуге болады, ал тізімнің бір бөлігін алуға арналған кесінділер **жолдардағыдай** жұмыс істейді."
   ]
  },
  {
   "cell_type": "code",
   "execution_count": null,
   "metadata": {},
   "outputs": [],
   "source": [
    "numbers = [10, 20, 30, 40, 50]\n",
    "\n",
    "print(f\"Бірінші элемент: {numbers[0]}\")\n",
    "print(f\"Соңғы элемент: {numbers[-1]}\")"
   ]
  },
  {
   "cell_type": "code",
   "execution_count": null,
   "metadata": {},
   "outputs": [],
   "source": [
    "numbers = [10, 20, 30, 40, 50]\n",
    "\n",
    "print(f\"1-ші элементтен 3-шіге дейінгі кесінді: {numbers[1:4]}\")"
   ]
  },
  {
   "cell_type": "markdown",
   "metadata": {},
   "source": [
    "> Тізімдердің әдістері мен мүмкіндіктерін келесі сабақтарда толығырақ қарастырамыз. Қазір бізге оларды қалай іріктеп алуды түсіну маңызды."
   ]
  },
  {
   "cell_type": "markdown",
   "metadata": {},
   "source": [
    "### 4.2. `for` циклі\n",
    "\n",
    "`for` циклі — бұл тізбектердегі (жолдар немесе тізімдер сияқты) элементтерді **іріктеудің** негізгі тәсілі. Ол коллекцияның әрбір элементі үшін код блогын орындайды.\n",
    "\n",
    "`for` циклін ұйымдастырудың екі негізгі тәсілі бар:"
   ]
  },
  {
   "cell_type": "markdown",
   "metadata": {},
   "source": [
    "#### 1-тәсіл: Элементтер бойынша іріктеу\n",
    "Бізге элементтердің тек **мәндері** маңызды болғанда қолданылады.\n",
    "**Синтаксис:** `for айнымалы in коллекция:`"
   ]
  },
  {
   "cell_type": "code",
   "execution_count": null,
   "metadata": {},
   "outputs": [],
   "source": [
    "fruits = [\"алма\", \"банан\", \"шие\"]\n",
    "for fruit in fruits:\n",
    "    print(f\"Мен {fruit} жақсы көремін\")"
   ]
  },
  {
   "cell_type": "markdown",
   "metadata": {},
   "source": [
    "#### 2-тәсіл: Индекстер бойынша іріктеу\n",
    "Бізге мәндермен қатар олардың **индекстері** (реттік нөмірлері) де маңызды болғанда қолданылады. Бұл үшін `range(len(коллекция))` функциясы пайдаланылады.\n",
    "**Синтаксис:** `for i in range(len(коллекция)):`"
   ]
  },
  {
   "cell_type": "code",
   "execution_count": null,
   "metadata": {},
   "outputs": [],
   "source": [
    "fruits = [\"алма\", \"банан\", \"шие\"]\n",
    "for i in range(len(fruits)):\n",
    "    print(f\"Индексі {i} болатын элемент: {fruits[i]}\")"
   ]
  },
  {
   "cell_type": "markdown",
   "metadata": {},
   "source": [
    "### 4.3. Циклдер мен шартты операторлардың комбинациясы\n",
    "\n",
    "Циклдердің ең үлкен күші олардың ішінде әрбір элементті талдау үшін `if` операторын қолданғанда ашылады."
   ]
  },
  {
   "cell_type": "markdown",
   "metadata": {},
   "source": [
    "**1-мысал: Тізімнен тек оң сандарды тауып, шығару.**"
   ]
  },
  {
   "cell_type": "code",
   "execution_count": null,
   "metadata": {
    "jupyter": {
     "source_hidden": true
    }
   },
   "outputs": [],
   "source": [
    "numbers = [10, -5, 0, 22, -1, 8]\n",
    "\n",
    "print(\"Оң сандар:\")\n",
    "for num in numbers:\n",
    "    if num > 0:\n",
    "        print(num)"
   ]
  },
  {
   "cell_type": "markdown",
   "metadata": {},
   "source": [
    "**2-мысал: Тек 5 символдан ұзын сөздерден тұратын жаңа тізім құру.**"
   ]
  },
  {
   "cell_type": "code",
   "execution_count": null,
   "metadata": {},
   "outputs": [],
   "source": [
    "words = [\"бағдарламалау\", \"Python\", \"код\", \"алгоритм\", \"цикл\"]\n",
    "long_words = [] # Нәтижелер үшін бос тізім құрамыз\n",
    "\n",
    "for word in words:\n",
    "    if len(word) > 5:\n",
    "        long_words.append(word) # .append() әдісі элементті тізімнің соңына қосады\n",
    "\n",
    "print(\"Ұзын сөздер:\", long_words)"
   ]
  },
  {
   "cell_type": "markdown",
   "metadata": {},
   "source": [
    "## 5-бөлім. Қателерді өңдеу: `try-except`\n",
    "\n",
    "Егер қолданушы бағдарлама сан күткен жерде мәтін енгізсе не болады? Бағдарлама қатемен \"құлайды\". Мұндай жағдайларды болдырмау және дұрыс өңдеу үшін `try-except` конструкциясы қолданылады.\n",
    "\n",
    "- `try` блогына қате тудыруы **мүмкін** код орналастырылады.\n",
    "- `except` блогына қате **шынымен орын алған жағдайда** орындалатын код орналастырылады."
   ]
  },
  {
   "cell_type": "markdown",
   "metadata": {},
   "source": [
    "Бұл код сан емес мән енгізілсе, `ValueError` қатесін шығарады:"
   ]
  },
  {
   "cell_type": "code",
   "execution_count": null,
   "metadata": {},
   "outputs": [],
   "source": [
    "age_str = input(\"Жасыңызды енгізіңіз: \")\n",
    "age = int(age_str)\n",
    "print(f\"Сіздің жасыңыз: {age}\")"
   ]
  },
  {
   "cell_type": "markdown",
   "metadata": {},
   "source": [
    "Ал бұл код қатені өңдеп, дұрыс хабарлама шығарады:"
   ]
  },
  {
   "cell_type": "code",
   "execution_count": null,
   "metadata": {},
   "outputs": [],
   "source": [
    "try:\n",
    "    age_str = input(\"Жасыңызды енгізіңіз: \")\n",
    "    age = int(age_str)\n",
    "    print(f\"Сіздің жасыңыз: {age}\")\n",
    "except ValueError:\n",
    "    print(\"Қате: сіз сан енгізбедіңіз!\")"
   ]
  }
 ],
 "metadata": {
  "kernelspec": {
   "display_name": "Python [conda env:base] *",
   "language": "python",
   "name": "conda-base-py"
  },
  "language_info": {
   "codemirror_mode": {
    "name": "ipython",
    "version": 3
   },
   "file_extension": ".py",
   "mimetype": "text/x-python",
   "name": "python",
   "nbconvert_exporter": "python",
   "pygments_lexer": "ipython3",
   "version": "3.13.5"
  }
 },
 "nbformat": 4,
 "nbformat_minor": 4
}
