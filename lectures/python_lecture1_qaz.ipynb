{
  "cells": [
    {
      "cell_type": "markdown",
      "metadata": {},
      "source": [
        "# №1 Дәріс: Python-ға кіріспе. Синтаксис негіздері, айнымалылар және мәтінмен жұмыс\n",
        "\n",
        "**Дәріс мақсаттары:**\n",
        "*   Python-ның негізгі синтаксисімен танысу.\n",
        "*   Деректерді сақтау үшін айнымалыларды (переменные) қолдануды үйрену және олардың түрлерін түсіну.\n",
        "*   Пайдаланушымен өзара әрекеттесу үшін енгізу-шығару функцияларын меңгеру.\n",
        "*   Жолдармен (строки) жұмыс істеу негіздерін зерттеу: құрудан бастап негізгі операцияларға дейін."
      ]
    },
    {
      "cell_type": "markdown",
      "metadata": {},
      "source": [
        "## 1-бөлім: Python-дағы алғашқы қадамдар\n",
        "\n",
        "### 1.1. `print()` функциясы – Әлеммен байланыс орнату тәсіліміз\n",
        "\n",
        "`print()` функциясы біз оған берген ақпаратты экранға шығарады. Бұл бағдарлама жұмысының нәтижелерін көрсетуге арналған негізгі құрал."
      ]
    },
    {
      "cell_type": "code",
      "execution_count": null,
      "metadata": {},
      "outputs": [],
      "source": [
        "# Мәтінді (жолды) шығару үшін оны тырнақшаға алу керек.\n",
        "print(\"Сәлем, әлем!\")"
      ]
    },
    {
      "cell_type": "markdown",
      "metadata": {},
      "source": [
        "`print()` функциясын бір рет шақыру арқылы бірнеше мәнді үтір арқылы тізіп, шығаруға болады. Python олардың арасына автоматты түрде бос орын қояды."
      ]
    },
    {
      "cell_type": "code",
      "execution_count": null,
      "metadata": {},
      "outputs": [],
      "source": [
        "print(\"Мен\", 20, \"жастамын\")"
      ]
    },
    {
      "cell_type": "markdown",
      "metadata": {},
      "source": [
        "### 1.2. Синтаксис ерекшеліктері: Тырнақшалар және Түсініктемелер (Комментарии)\n",
        "\n",
        "#### Тырнақшалар\n",
        "Python-да жолдарды құру үшін жалқы (`'`) және қос (`\"`) тырнақшаларды да қолдануға болады. Олардың арасында айырмашылық жоқ. Ең бастысы — жолды ашу және жабу үшін бірдей тырнақша түрін пайдалану."
      ]
    },
    {
      "cell_type": "code",
      "execution_count": null,
      "metadata": {},
      "outputs": [],
      "source": [
        "print('Бұл жалқы тырнақшадағы жол.')\n",
        "print(\"Бұл қос тырнақшадағы жол.\")"
      ]
    },
    {
      "cell_type": "markdown",
      "metadata": {},
      "source": [
        "Көпжолды мәтін құру үшін **үштік** тырнақшалар (`'''` немесе `\"\"\"`) қолданылады."
      ]
    },
    {
      "cell_type": "code",
      "execution_count": null,
      "metadata": {},
      "outputs": [],
      "source": [
        "poem = \"\"\"Бұл бірінші жол.\n",
        "Ал бұл екінші.\n",
        "Тіпті үшіншісі де бар.\"\"\"\n",
        "print(poem)"
      ]
    },
    {
      "cell_type": "markdown",
      "metadata": {},
      "source": [
        "#### Түсініктемелер (Комментарии)\n",
        "Түсініктеме — бұл кодтағы компьютерге емес, адамға арналған мәтін. Python интерпретаторы оны толығымен елемейді.\n",
        "\n",
        "Біржолды түсініктеме `#` символынан басталады."
      ]
    },
    {
      "cell_type": "code",
      "execution_count": null,
      "metadata": {},
      "outputs": [],
      "source": [
        "# Бұл жол - түсініктеме, және ол орындалмайды\n",
        "print(\"Бұл жол экранға шығарылады\") # Ал бұл жолдың соңындағы түсініктеме"
      ]
    },
    {
      "cell_type": "markdown",
      "metadata": {},
      "source": [
        "Көпжолды түсініктемелер үшін көбінесе үштік тырнақшалар қолданылады, бірақ техникалық тұрғыдан бұл біз еш жерде қолданбайтын көпжолды жол болып табылады."
      ]
    },
    {
      "cell_type": "code",
      "execution_count": null,
      "metadata": {},
      "outputs": [],
      "source": [
        "\"\"\"\n",
        "Бұл көпжолды түсініктеме.\n",
        "Ол кодқа ұзақ түсіндірмелер беру үшін пайдалы.\n",
        "Интерпретатор оны да елемейді.\n",
        "\"\"\"\n",
        "print(\"Жоғарыдағы түсініктемелер бұл жолға әсер етпеді.\")"
      ]
    },
    {
      "cell_type": "markdown",
      "metadata": {},
      "source": [
        "### 1.3. Айнымалылар және деректер типтері\n",
        "\n",
        "**Айнымалы (переменная)** — бұл деректерге арналған атаулы сақтау орны.\n",
        "\n",
        "Біз жұмысты бастайтын негізгі деректер типтері:\n",
        "*   **`int`** — бүтін сандар (10, -5).\n",
        "*   **`float`** — бөлшек сандар (3.14, -0.5).\n",
        "*   **`str`** — жолдар (мәтін)."
      ]
    },
    {
      "cell_type": "code",
      "execution_count": null,
      "metadata": {},
      "outputs": [],
      "source": [
        "student_name = \"Алексей\"\n",
        "age = 20\n",
        "gpa = 3.8\n",
        "\n",
        "print(\"Аты-жөні:\", student_name)\n",
        "print(\"Жасы:\", age)\n",
        "print(\"Орташа балы:\", gpa)"
      ]
    },
    {
      "cell_type": "markdown",
      "metadata": {},
      "source": [
        "### 1.4. Пайдаланушыдан деректерді енгізу\n",
        "\n",
        "`input()` функциясы пайдаланушыдан деректерді сұрайды. **Маңызды:** ол әрқашан жолды (`str`) қайтарады. Математикалық операциялар үшін бұл деректерді `int()` немесе `float()` арқылы сандық типтерге түрлендіру қажет."
      ]
    },
    {
      "cell_type": "code",
      "execution_count": null,
      "metadata": {},
      "outputs": [],
      "source": [
        "# Деректерді сұрау\n",
        "age_str = input(\"Жасыңызды енгізіңіз: \")\n",
        "\n",
        "# Жолды санға түрлендіру\n",
        "age_int = int(age_str)\n",
        "\n",
        "# Енді есептеулер жүргізуге болады\n",
        "next_year_age = age_int + 1\n",
        "\n",
        "print(\"Келесі жылы сіздің жасыңыз:\", next_year_age)"
      ]
    },
    {
      "cell_type": "code",
      "execution_count": null,
      "metadata": {},
      "outputs": [],
      "source": [
        "# Егер түрлендірмесе, қате шығады\n",
        "age_str = input(\"Жасыңызды енгізіңіз: \")\n",
        "next_year_age = age_str + 1\n",
        "print(\"Келесі жылы сіздің жасыңыз:\", next_year_age)"
      ]
    },
    {
      "cell_type": "code",
      "execution_count": null,
      "metadata": {},
      "outputs": [],
      "source": [
        "# Дәл осыны артық айнымалыларсыз қалай қысқаша жасауға болады. Артық айнымалылар сізге бастапқыда түсінікті болу үшін жасалды. Әдетте, бағдарламалау кезінде кодты оңтайлы жазуға тырысады\n",
        "age = input(\"Жасыңызды енгізіңіз: \")\n",
        "print(\"Келесі жылы сіздің жасыңыз:\", int(age)+1)"
      ]
    },
    {
      "cell_type": "code",
      "execution_count": null,
      "metadata": {},
      "outputs": [],
      "source": [
        "age = int(input(\"Жасыңызды енгізіңіз: \"))\n",
        "print(\"Келесі жылы сіздің жасыңыз:\", age + 1)"
      ]
    },
    {
      "cell_type": "markdown",
      "metadata": {},
      "source": [
        "### 1.5. Арифметикалық операциялар\n",
        "\n",
        "\n",
        "\n",
        "Python барлық стандартты математикалық операцияларды қолдайды:\n",
        "- `+` (қосу)\n",
        "- `-` (азайту)\n",
        "- `*` (көбейту)\n",
        "- `/` (кәдімгі бөлу, нәтижесі әрқашан `float` болады)\n",
        "- `//` (бүтін санды бөлу, бөлшек бөлігін алып тастайды)\n",
        "- `%` (бөлуден қалған қалдық)\n",
        "- `**` (дәрежеге шығару)"
      ]
    },
    {
      "cell_type": "markdown",
      "metadata": {},
      "source": [
        "#### Қосу, азайту, көбейту"
      ]
    },
    {
      "cell_type": "code",
      "execution_count": null,
      "metadata": {},
      "outputs": [],
      "source": [
        "a = 15\n",
        "b = 4\n",
        "result = a + b * 2 # Python операциялардың орындалу ретін сақтайды\n",
        "print(\"Нәтиже:\", result)"
      ]
    },
    {
      "cell_type": "markdown",
      "metadata": {},
      "source": [
        "#### Бөлу\n",
        "Кәдімгі бөлу (`/`) әрқашан `float` қайтарады."
      ]
    },
    {
      "cell_type": "code",
      "execution_count": null,
      "metadata": {},
      "outputs": [],
      "source": [
        "result = 10 / 4\n",
        "print(\"10 / 4 =\", result)"
      ]
    },
    {
      "cell_type": "markdown",
      "metadata": {},
      "source": [
        "Бүтін санды бөлу (`//`) бөлшек бөлігін алып тастайды."
      ]
    },
    {
      "cell_type": "code",
      "execution_count": null,
      "metadata": {},
      "outputs": [],
      "source": [
        "result = 10 // 4\n",
        "print(\"10 // 4 =\", result)"
      ]
    },
    {
      "cell_type": "markdown",
      "metadata": {},
      "source": [
        "Бөлуден қалған қалдықты алу (`%`)."
      ]
    },
    {
      "cell_type": "code",
      "execution_count": null,
      "metadata": {},
      "outputs": [],
      "source": [
        "result = 10 % 4\n",
        "print(\"10-ды 4-ке бөлгендегі қалдық:\", result)"
      ]
    },
    {
      "cell_type": "markdown",
      "metadata": {},
      "source": [
        "## 2-бөлім: Жолдармен жұмыс\n",
        "\n",
        "### 2.1. Жолдарды пішімдеу: f-жолдар (f-strings)\n",
        "\n",
        "Біз мәтін мен айнымалыларды үтір арқылы қалай шығаруға болатынын көрдік. Бірақ одан да заманауи және қуатты әдіс бар — **f-жолдар**. Олар айнымалыларды, тіпті тұтас өрнектерді тікелей мәтіннің ішіне енгізуге мүмкіндік береді.\n",
        "\n",
        "Ол үшін ашатын тырнақшаның алдына `f` әрпін қою керек, ал айнымалының атын немесе өрнекті `{}` фигуралық жақшаларға алу керек."
      ]
    },
    {
      "cell_type": "code",
      "execution_count": null,
      "metadata": {},
      "outputs": [],
      "source": [
        "name = \"Мария\"\n",
        "age = 22\n",
        "\n",
        "# f-жолды пайдалану\n",
        "print(f\"Студенттің аты {name}, ол {age} жаста.\")\n",
        "\n",
        "# Жақша ішінде есептеулер де жүргізуге болады!\n",
        "print(f\"5 жылдан кейін ол {age + 5} жаста болады.\")"
      ]
    },
    {
      "cell_type": "markdown",
      "metadata": {},
      "source": [
        "**Маңызды!** Жолдың алдында `f` болмаса, фигуралық жақшалар — жай ғана символдар."
      ]
    },
    {
      "cell_type": "code",
      "execution_count": null,
      "metadata": {},
      "outputs": [],
      "source": [
        "name = \"Мария\"\n",
        "print(f\"f-жолмен: Сәлем, {name}!\")\n",
        "print(\"f-жолсыз: Сәлем, {name}!\")"
      ]
    },
    {
      "cell_type": "markdown",
      "metadata": {},
      "source": [
        "### 2.2. Басқарушы тізбектер (Управляющие последовательности)\n",
        "\n",
        "Бұл мәтіннің көрсетілуін басқаратын арнайы символдар комбинациясы:\n",
        "*   `\\n` — **жаңа жолға көшу**.\n",
        "*   `\\t` — **табуляция** (үлкен шегініс)."
      ]
    },
    {
      "cell_type": "code",
      "execution_count": null,
      "metadata": {},
      "outputs": [],
      "source": [
        "print(\"Бірінші жол.\\nЕкінші жол.\")"
      ]
    },
    {
      "cell_type": "code",
      "execution_count": null,
      "metadata": {},
      "outputs": [],
      "source": [
        "print(\"Баған1\\tБаған2\\tБаған3\")\n",
        "print(\"1\\t\\t2\\t\\t3\")"
      ]
    },
    {
      "cell_type": "markdown",
      "metadata": {},
      "source": [
        "### 2.3. Индекстеу және кесінділер (Срезы)\n",
        "\n",
        "Жол — бұл символдар тізбегі. Біз кез келген символға оның **индексі** (нөмірі) арқылы қол жеткізе аламыз. **Нөмірлеу 0-ден басталады!**"
      ]
    },
    {
      "cell_type": "code",
      "execution_count": null,
      "metadata": {},
      "outputs": [],
      "source": [
        "my_string = \"Бағдарламалау\"\n",
        "\n",
        "first_char = my_string[0] # Бірінші символды аламыз\n",
        "print(f\"Бірінші символ: {first_char}\")\n",
        "\n",
        "last_char = my_string[-1] # Теріс индекс -1 әрқашан соңғы символды білдіреді\n",
        "print(f\"Соңғы символ: {last_char}\")"
      ]
    },
    {
      "cell_type": "markdown",
      "metadata": {},
      "source": [
        "**Кесінді (срез)** (`[басы:соңы:қадам]`) жолдың бір бөлігін алуға мүмкіндік береді. `соңы` индексі бар элемент кесіндіге кірмейді."
      ]
    },
    {
      "cell_type": "code",
      "execution_count": null,
      "metadata": {},
      "outputs": [],
      "source": [
        "my_string = \"Бағдарламалау\"\n",
        "\n",
        "substring = my_string[0:6] # 0-ден 5-шіге дейінгі символдарды аламыз\n",
        "print(f\"Ішкі жол: {substring}\")\n",
        "print(f\"Керісінше жол: {my_string[::-1]}\") # -1 қадамымен кесінді"
      ]
    },
    {
      "cell_type": "markdown",
      "metadata": {},
      "source": [
        "### 2.4. Жолдардың негізгі әдістері (методы)\n",
        "Әдістер — бұл объектіге (біздің жағдайда, жолға) ендірілген функциялар. Олар нүкте арқылы шақырылады.\n",
        "\n",
        "*   `len(жол)` — жолдың ұзындығын қайтарады.\n",
        "*   `.upper()` / `.lower()` — жолды жоғарғы / төменгі регистрге келтіреді.\n",
        "*   `.strip()` — жолдың басындағы және соңындағы бос орындарды алып тастайды.\n",
        "*   `.replace(ескі, жаңа)` — бір ішкі жолдың барлық кездесулерін екіншісіне ауыстырады.\n",
        "*   `.split(бөлгіш)` — жолды көрсетілген бөлгіш бойынша тізімге бөледі."
      ]
    },
    {
      "cell_type": "code",
      "execution_count": null,
      "metadata": {},
      "outputs": [],
      "source": [
        "text = \"Python\"\n",
        "print(f\"'{text}' сөзінің ұзындығы {len(text)} символдан тұрады.\")"
      ]
    },
    {
      "cell_type": "markdown",
      "metadata": {},
      "source": [
        "`.upper()` және `.lower()` — жолды жоғарғы және төменгі регистрге келтіреді."
      ]
    },
    {
      "cell_type": "code",
      "execution_count": null,
      "metadata": {},
      "outputs": [],
      "source": [
        "text = \"аРаЛаС РегиСтр\"\n",
        "print(f\"ЖОҒАРҒЫ: {text.upper()}\")\n",
        "print(f\"төменгі: {text.lower()}\")"
      ]
    },
    {
      "cell_type": "markdown",
      "metadata": {},
      "source": [
        "`.replace(ескі, жаңа)` — ішкі жолдарды ауыстырады."
      ]
    },
    {
      "cell_type": "code",
      "execution_count": null,
      "metadata": {},
      "outputs": [],
      "source": [
        "sentence = \"Мен Java-ны зерттегенді ұнатамын.\"\n",
        "corrected_sentence = sentence.replace(\"Java\", \"Python\")\n",
        "print(corrected_sentence)"
      ]
    },
    {
      "cell_type": "code",
      "execution_count": null,
      "metadata": {},
      "outputs": [],
      "source": [
        "date_str = \"25-12-2024\"\n",
        "date_parts = date_str.split(\"-\")\n",
        "print(f\"Бөліктер тізімі: {date_parts}\")"
      ]
    },
    {
      "cell_type": "code",
      "execution_count": null,
      "metadata": {},
      "outputs": [],
      "source": [
        "text = \"   артық бос орындар   \"\n",
        "print(f\"Тазартылған жол: '{text.strip()}'\")"
      ]
    }
  ],
  "metadata": {
    "kernelspec": {
      "display_name": "Python [conda env:base] *",
      "language": "python",
      "name": "conda-base-py"
    },
    "language_info": {
      "codemirror_mode": {
        "name": "ipython",
        "version": 3
      },
      "file_extension": ".py",
      "mimetype": "text/x-python",
      "name": "python",
      "nbconvert_exporter": "python",
      "pygments_lexer": "ipython3",
      "version": "3.13.5"
    }
  },
  "nbformat": 4,
  "nbformat_minor": 4
}