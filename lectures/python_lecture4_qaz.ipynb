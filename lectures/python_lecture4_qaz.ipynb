{
  "cells": [
    {
      "cell_type": "markdown",
      "metadata": {},
      "source": [
        "# №4 Дәріс: Жетілдірілген деректер құрылымдары: кортеждер, сөздіктер, жиындар\n",
        "\n",
        "### Дәрістің мақсаттары:\n",
        "1.  Салыстыру негізі ретінде тізімдердің (`list`) негізгі ерекшеліктерін **қайталау**.\n",
        "2.  **Кортеждерді (`tuple`) зерттеу:** олардың басты ерекшелігі — өзгермейтіндігін түсіну, оларды құруды, элементтерге қол жеткізуді және сәйкес жағдайларда пайдалануды үйрену.\n",
        "3.  **Сөздіктерді (`dict`) меңгеру:** деректермен \"кілт-мән\" форматында жұмыс істеуді, элементтерді басқаруды және негізгі әдістерді қолдануды үйрену.\n",
        "4.  **Жиындармен (`set`) танысу:** олардың бірегей элементтерді сақтау және бірігу, қиылысу, айырма сияқты математикалық операцияларды орындау үшін пайдасын түсіну.\n",
        "5.  Нақты тапсырмаларды шешу үшін қандай деректер құрылымын таңдау керектігі туралы **анық түсінік қалыптастыру**."
      ]
    },
    {
      "cell_type": "markdown",
      "metadata": {},
      "source": [
        "### Қысқаша қайталау: Тізімдер (list)\n",
        "\n",
        "Жаңа құрылымдарға көшпес бұрын, **тізімнің** не екенін еске түсірейік. Бұл Python-дағы ең әмбебап және жиі қолданылатын коллекция.\n",
        "\n",
        "**Негізгі сипаттамалары:**\n",
        "- **Өзгертілетін (Mutable):** Тізімді құрғаннан кейін элементтерді қосуға, жоюға және өзгертуге болады.\n",
        "- **Реттелген (Ordered):** Элементтер белгілі бір тәртіпте сақталады және бұл тәртіп сақталады. Әр элементтің өз индексі бар.\n",
        "- **Индекстелетін:** Элементтерге сандық индекс арқылы (0-ден бастап) қол жеткізіледі."
      ]
    },
    {
      "cell_type": "code",
      "execution_count": null,
      "metadata": {},
      "outputs": [],
      "source": [
        "# Тізімді құру және өзгерту мысалы\n",
        "my_list = [10, \"сәлем\", 20.5]\n",
        "print(f\"Бастапқы тізім: {my_list}\")\n",
        "\n",
        "# Элементті өзгерту\n",
        "my_list[1] = \"әлем\"\n",
        "\n",
        "# Элемент қосу\n",
        "my_list.append(True)\n",
        "\n",
        "print(f\"Өзгертілген тізім: {my_list}\")"
      ]
    },
    {
      "cell_type": "markdown",
      "metadata": {},
      "source": [
        "## 1-бөлім. Кортеждер (Tuples) — Тізімдердің өзгермейтін бауырлары\n",
        "\n",
        "**Кортеж (tuple)** — бұл, шын мәнінде, тізіммен бірдей, бірақ бір өте маңызды айырмашылығы бар: ол **өзгермейтін (immutable)**.\n",
        "\n",
        "**Негізгі сипаттамалары:**\n",
        "- **Өзгермейтін (Immutable):** Кортежді құрғаннан кейін оның элементтерін өзгертуге, қосуға немесе жоюға БОЛМАЙДЫ.\n",
        "- **Реттелген (Ordered):** Тізімдер сияқты, элементтерді белгілі бір тәртіпте сақтайды.\n",
        "- **Индекстелетін:** Элементтерге индекс арқылы қол жеткізіледі.\n",
        "\n",
        "**Кортеждерді қашан қолданған жөн?**\n",
        "1.  **Деректерді қорғау үшін:** Сіздің деректеріңіз (мысалы, координаталар, RGB түс кодтары, баптаулар) кездейсоқ өзгермейтініне сенімді болғыңыз келгенде.\n",
        "2.  **Сөздік кілттері ретінде:** Сөздіктердегі кілттер өзгермейтін болуы керек, сондықтан кортеждер бұл рөлге жарамды, ал тізімдер жарамсыз.\n",
        "3.  **Функциядан бірнеше мән қайтару үшін:** Функциялар жиі нәтижелерді кортеж түрінде қайтарады."
      ]
    },
    {
      "cell_type": "markdown",
      "metadata": {},
      "source": [
        "### Кортеждерді құру"
      ]
    },
    {
      "cell_type": "code",
      "execution_count": null,
      "metadata": {},
      "outputs": [],
      "source": [
        "# Дөңгелек жақшалар арқылы құру\n",
        "my_tuple = (1, 2, \"a\", \"b\")\n",
        "print(my_tuple)\n",
        "\n",
        "# Жақшаларды жазбаса да болады\n",
        "another_tuple = 10, 20, 30\n",
        "print(another_tuple)\n",
        "\n",
        "# МАҢЫЗДЫ: бір элементтен тұратын кортеж құру үшін үтір қажет!\n",
        "single_element_tuple = (42,)\n",
        "not_a_tuple = (42)\n",
        "print(f\"Бұл кортеж: {single_element_tuple}, типі: {type(single_element_tuple)}\")\n",
        "print(f\"Ал бұл жай сан: {not_a_tuple}, типі: {type(not_a_tuple)}\")"
      ]
    },
    {
      "cell_type": "markdown",
      "metadata": {},
      "source": [
        "### Элементтерге қол жеткізу және кесінділер\n",
        "\n",
        "Тізімдермен жұмыс істегендей жұмыс істейді."
      ]
    },
    {
      "cell_type": "code",
      "execution_count": null,
      "metadata": {},
      "outputs": [],
      "source": [
        "data_tuple = ('a', 'b', 'c', 'd', 'e')\n",
        "\n",
        "# Индекс бойынша қол жеткізу\n",
        "print(f\"Бірінші элемент: {data_tuple[0]}\")\n",
        "print(f\"Соңғы элемент: {data_tuple[-1]}\")\n",
        "\n",
        "# Кесінділер\n",
        "print(f\"1-ден 3-ке дейінгі элементтер: {data_tuple[1:4]}\")\n",
        "print(f\"Кері тәртіптегі кортеж: {data_tuple[::-1]}\")"
      ]
    },
    {
      "cell_type": "markdown",
      "metadata": {},
      "source": [
        "### Басты қасиеті: өзгермейтіндік\n",
        "\n",
        "Кортеж элементін өзгерту әрекеті `TypeError` қатесіне әкеледі."
      ]
    },
    {
      "cell_type": "code",
      "execution_count": null,
      "metadata": {},
      "outputs": [],
      "source": [
        "immutable_tuple = (10, 20, 30)\n",
        "\n",
        "# Келесі жол қате тудырады. Тексеру үшін оны комментарийден шығарыңыз.\n",
        "# immutable_tuple[0] = 100\n",
        "\n",
        "# Қате: TypeError: 'tuple' object does not support item assignment"
      ]
    },
    {
      "cell_type": "markdown",
      "metadata": {},
      "source": [
        "### Кортеждердің әдістері\n",
        "Өзгермейтіндігіне байланысты кортеждердің небәрі екі негізгі әдісі бар."
      ]
    },
    {
      "cell_type": "markdown",
      "metadata": {},
      "source": [
        "#### `.count()` әдісі\n",
        "Белгілі бір элементтің кортежде қанша рет кездесетінін санайды."
      ]
    },
    {
      "cell_type": "code",
      "execution_count": null,
      "metadata": {},
      "outputs": [],
      "source": [
        "counts_tuple = (1, 2, 5, 2, 8, 2, 9)\n",
        "count_of_twos = counts_tuple.count(2)\n",
        "print(f\"2 саны {count_of_twos} рет кездеседі.\")"
      ]
    },
    {
      "cell_type": "markdown",
      "metadata": {},
      "source": [
        "#### `.index()` әдісі\n",
        "Көрсетілген элементтің бірінші кездесуінің индексін қайтарады."
      ]
    },
    {
      "cell_type": "code",
      "execution_count": null,
      "metadata": {},
      "outputs": [],
      "source": [
        "index_tuple = ('a', 'b', 'c', 'd', 'b')\n",
        "index_of_b = index_tuple.index('b')\n",
        "print(f\"'b' элементінің бірінші кездесуі мына индексте: {index_of_b}\")"
      ]
    },
    {
      "cell_type": "markdown",
      "metadata": {},
      "source": [
        "### Кортеждермен операциялар\n",
        "Кортеждерді өзгертуге болмаса да, олардан жаңаларын жасауға болады."
      ]
    },
    {
      "cell_type": "markdown",
      "metadata": {},
      "source": [
        "#### Қосу (конкатенация) және көбейту (қайталау)"
      ]
    },
    {
      "cell_type": "code",
      "execution_count": null,
      "metadata": {},
      "outputs": [],
      "source": [
        "t1 = (1, 2)\n",
        "t2 = (3, 4)\n",
        "\n",
        "# Қосу жаңа кортеж жасайды\n",
        "t3 = t1 + t2\n",
        "print(f\"Қосу нәтижесі: {t3}\")\n",
        "\n",
        "# Көбейту элементтерді қайталайды\n",
        "t4 = t1 * 3\n",
        "print(f\"Көбейту нәтижесі: {t4}\")"
      ]
    },
    {
      "cell_type": "markdown",
      "metadata": {},
      "source": [
        "### Қаптамадан шығару (Unpacking)\n",
        "Кортеж элементтерін жеке айнымалыларға тағайындаудың өте ыңғайлы мүмкіндігі. Айнымалылар саны элементтер санымен сәйкес келуі керек."
      ]
    },
    {
      "cell_type": "code",
      "execution_count": null,
      "metadata": {},
      "outputs": [],
      "source": [
        "personal_data = (\"Иван\", \"Иванов\", 30)\n",
        "\n",
        "# Қаптамадан шығару\n",
        "first_name, last_name, age = personal_data\n",
        "\n",
        "print(f\"Аты: {first_name}\")\n",
        "print(f\"Тегі: {last_name}\")\n",
        "print(f\"Жасы: {age}\")"
      ]
    },
    {
      "cell_type": "markdown",
      "metadata": {},
      "source": [
        "#### `*` арқылы кеңейтілген қаптамадан шығару\n",
        "Қалған элементтерді тізімге \"жинауға\" мүмкіндік береді."
      ]
    },
    {
      "cell_type": "code",
      "execution_count": null,
      "metadata": {},
      "outputs": [],
      "source": [
        "long_tuple = (1, 2, 3, 4, 5, 6, 7)\n",
        "\n",
        "first, second, *others, last = long_tuple\n",
        "\n",
        "print(f\"Бірінші: {first}\")\n",
        "print(f\"Екінші: {second}\")\n",
        "print(f\"Соңғы: {last}\")\n",
        "print(f\"Қалғандары (тізім түрінде): {others}\")"
      ]
    },
    {
      "cell_type": "markdown",
      "metadata": {},
      "source": [
        "## 2-бөлім. Сөздіктер (dict) — Барлығы өз орнында\n",
        "\n",
        "**Сөздік (dict)** — бұл **\"кілт-мән\"** жұптарын сақтауға арналған деректер құрылымы.\n",
        "\n",
        "**Негізгі сипаттамалары:**\n",
        "- **Өзгертілетін (Mutable):** Жұптарды қосуға, өзгертуге және жоюға болады.\n",
        "- **Реттелген (Python 3.7-ден бастап):** Қазіргі Python нұсқалары элементтердің қосылу тәртібін сақтайды. Бірақ бұған негізгі қасиет ретінде сенуге болмайды.\n",
        "- **Кілт бойынша қол жеткізу:** Элементтер сандық индекс бойынша емес, бірегей кілт бойынша алынады.\n",
        "- **Бірегей кілттер:** Сөздіктегі барлық кілттер бірегей және өзгермейтін болуы керек (сандар, жолдар, кортеждер)."
      ]
    },
    {
      "cell_type": "markdown",
      "metadata": {},
      "source": [
        "### Сөздіктерді құру"
      ]
    },
    {
      "cell_type": "code",
      "execution_count": null,
      "metadata": {},
      "outputs": [],
      "source": [
        "# Фигуралы жақшалар арқылы құру\n",
        "student = {\n",
        "    \"name\": \"Әлиса\",\n",
        "    \"age\": 20,\n",
        "    \"courses\": [\"Математика\", \"Бағдарламалау\"]\n",
        "}\n",
        "print(student)\n",
        "\n",
        "# Бос сөздік құру\n",
        "empty_dict = {}\n",
        "print(f\"Бос сөздік: {empty_dict}\")"
      ]
    },
    {
      "cell_type": "markdown",
      "metadata": {},
      "source": [
        "### Элементтерге қол жеткізу, қосу және өзгерту"
      ]
    },
    {
      "cell_type": "code",
      "execution_count": null,
      "metadata": {},
      "outputs": [],
      "source": [
        "car = {\"brand\": \"Toyota\", \"model\": \"Camry\"}\n",
        "\n",
        "# Кілт бойынша мәнге қол жеткізу\n",
        "print(f\"Маркасы: {car['brand']}\")\n",
        "\n",
        "# Жаңа жұп қосу\n",
        "car[\"year\"] = 2022\n",
        "print(f\"Жылы қосылған: {car}\")\n",
        "\n",
        "# Бар мәнді өзгерту\n",
        "car[\"year\"] = 2023\n",
        "print(f\"Жылы өзгертілген: {car}\")"
      ]
    },
    {
      "cell_type": "markdown",
      "metadata": {},
      "source": [
        "### Элементтерді жою"
      ]
    },
    {
      "cell_type": "code",
      "execution_count": null,
      "metadata": {},
      "outputs": [],
      "source": [
        "user = {\"id\": 101, \"login\": \"testuser\", \"role\": \"guest\"}\n",
        "print(f\"Бастапқы сөздік: {user}\")\n",
        "\n",
        "# del операторы арқылы жою\n",
        "del user[\"role\"]\n",
        "\n",
        "print(f\"Жойылғаннан кейін: {user}\")"
      ]
    },
    {
      "cell_type": "markdown",
      "metadata": {},
      "source": [
        "### Сөздіктердің негізгі әдістері"
      ]
    },
    {
      "cell_type": "markdown",
      "metadata": {},
      "source": [
        "#### `.get()` әдісі\n",
        "Мәнді қауіпсіз алу тәсілі. Егер кілт жоқ болса, ол қате тудырмайды, орнына `None` немесе үнсіз келісім бойынша мәнді қайтарады."
      ]
    },
    {
      "cell_type": "code",
      "execution_count": null,
      "metadata": {},
      "outputs": [],
      "source": [
        "config = {\"host\": \"localhost\", \"port\": 8080}\n",
        "\n",
        "# Бар кілтті аламыз\n",
        "host = config.get(\"host\")\n",
        "print(f\"Хост: {host}\")\n",
        "\n",
        "# Жоқ кілтті алуға тырысамыз (None қайтарылады)\n",
        "user = config.get(\"user\")\n",
        "print(f\"Пайдаланушы: {user}\")\n",
        "\n",
        "# Жоқ кілтті үнсіз келісім мәнімен алуға тырысамыз\n",
        "password = config.get(\"password\", \"default_password\")\n",
        "print(f\"Құпиясөз: {password}\")"
      ]
    },
    {
      "cell_type": "markdown",
      "metadata": {},
      "source": [
        "#### `.keys()`, `.values()`, `.items()` әдістері\n",
        "Сәйкесінше, барлық кілттерді, барлық мәндерді немесе барлық жұптарды (кілт, мән) арнайы көрініс-объектілер түрінде алуға мүмкіндік береді."
      ]
    },
    {
      "cell_type": "code",
      "execution_count": null,
      "metadata": {},
      "outputs": [],
      "source": [
        "fruits = {\"apple\": 5, \"banana\": 10, \"orange\": 7}\n",
        "\n",
        "all_keys = fruits.keys()\n",
        "print(f\"Кілттер: {all_keys}\")\n",
        "\n",
        "all_values = fruits.values()\n",
        "print(f\"Мәндер: {all_values}\")\n",
        "\n",
        "all_items = fruits.items()\n",
        "print(f\"Жұптар: {all_items}\")\n",
        "\n",
        "# Оларды циклдерде қолдану өте ыңғайлы\n",
        "print(\"\\nЖұптарды аралау:\")\n",
        "for key, value in fruits.items():\n",
        "    print(f\"Жеміс: {key}, Саны: {value}\")"
      ]
    },
    {
      "cell_type": "markdown",
      "metadata": {},
      "source": [
        "#### `.update()` әдісі\n",
        "Бір сөздікті екіншісімен біріктіреді. Егер кілттер сәйкес келсе, екінші сөздіктің мәндері біріншісінің мәндерін қайта жазады."
      ]
    },
    {
      "cell_type": "code",
      "execution_count": null,
      "metadata": {},
      "outputs": [],
      "source": [
        "dict1 = {'a': 1, 'b': 2}\n",
        "dict2 = {'b': 3, 'c': 4}\n",
        "\n",
        "# dict1-ді dict2 деректерімен жаңартамыз\n",
        "dict1.update(dict2)\n",
        "\n",
        "print(f\"Нәтиже: {dict1}\")"
      ]
    },
    {
      "cell_type": "markdown",
      "metadata": {},
      "source": [
        "#### Басқа коллекциялардан сөздіктер құру"
      ]
    },
    {
      "cell_type": "code",
      "execution_count": null,
      "metadata": {},
      "outputs": [],
      "source": [
        "# Кортеждер тізімінен\n",
        "pairs = [(\"a\", 1), (\"b\", 2), (\"c\", 3)]\n",
        "dict_from_pairs = dict(pairs)\n",
        "print(f\"Жұптардан жасалған сөздік: {dict_from_pairs}\")\n",
        "\n",
        "# Екі тізімнен zip() көмегімен\n",
        "keys = [\"name\", \"age\", \"city\"]\n",
        "values = [\"Әлис\", 25, \"Нью-Йорк\"]\n",
        "dict_from_zip = dict(zip(keys, values))\n",
        "print(f\"Екі тізімнен жасалған сөздік: {dict_from_zip}\")"
      ]
    },
    {
      "cell_type": "markdown",
      "metadata": {},
      "source": [
        "## 3-бөлім. Жиындар (set) — Бірегейлік аумағы\n",
        "\n",
        "**Жиын (set)** — бұл тек **бірегей** элементтерді сақтай алатын коллекция.\n",
        "\n",
        "**Негізгі сипаттамалары:**\n",
        "- **Өзгертілетін (Mutable):** Элементтерді қосуға және жоюға болады.\n",
        "- **Реттелмеген (Unordered):** Элементтердің белгілі бір тәртібі жоқ. Индекс бойынша қол жеткізу мүмкін емес.\n",
        "- **Бірегей элементтер:** Жиын барлық дубликаттарды автоматты түрде жояды.\n",
        "\n",
        "**Жиындарды қашан қолданған жөн?**\n",
        "1.  **Дубликаттарды жою:** Тізімнен қайталанатын элементтерді жоюдың ең жылдам жолы.\n",
        "2.  **Элементтің бар-жоғын тексеру:** `element in my_set` тексеруі тізімдерге қарағанда әлдеқайда жылдам жұмыс істейді.\n",
        "3.  **Математикалық операциялар:** Коллекциялардың қиылысуын, бірігуін, айырмасын табу үшін."
      ]
    },
    {
      "cell_type": "markdown",
      "metadata": {},
      "source": [
        "### Жиындарды құру"
      ]
    },
    {
      "cell_type": "code",
      "execution_count": null,
      "metadata": {},
      "outputs": [],
      "source": [
        "# Дубликаттары бар тізімнен құру\n",
        "my_list_with_duplicates = [1, 2, 3, 2, 1, 4, 5, 4]\n",
        "my_set = set(my_list_with_duplicates)\n",
        "print(f\"Тізімнен жасалған жиын: {my_set}\") # Дубликаттар жойылды\n",
        "\n",
        "# Фигуралы жақшалар арқылы құру\n",
        "another_set = { 'a', 'b', 'c' }\n",
        "print(f\"Басқа жиын: {another_set}\")\n",
        "\n",
        "# МАҢЫЗДЫ: бос жиын құру үшін set() қолданыңыз, {} емес!\n",
        "empty_set = set()\n",
        "empty_dict = {}\n",
        "print(f\"empty_set типі: {type(empty_set)}\")\n",
        "print(f\"empty_dict типі: {type(empty_dict)}\")"
      ]
    },
    {
      "cell_type": "markdown",
      "metadata": {},
      "source": [
        "### Жиындарды өзгертуге арналған негізгі әдістер"
      ]
    },
    {
      "cell_type": "markdown",
      "metadata": {},
      "source": [
        "#### `.add()` әдісі\n",
        "Жиынға бір элемент қосады. Егер элемент бұрыннан бар болса, ештеңе болмайды."
      ]
    },
    {
      "cell_type": "code",
      "execution_count": null,
      "metadata": {},
      "outputs": [],
      "source": [
        "s = {1, 2, 3}\n",
        "s.add(4)\n",
        "print(f\"4-ті қосқаннан кейін: {s}\")\n",
        "s.add(2) # Бар элементті қосу әрекеті\n",
        "print(f\"2-ні қосқаннан кейін: {s}\")"
      ]
    },
    {
      "cell_type": "markdown",
      "metadata": {},
      "source": [
        "#### `.remove()` және `.discard()` әдістері\n",
        "Екеуі де элементті жояды, бірақ элемент жоқ болса, әртүрлі әрекет етеді.\n",
        "- `.remove(element)`: элементті жояды. Егер ол жоқ болса, **`KeyError` қатесін тудырады**.\n",
        "- `.discard(element)`: элементті жояды. Егер ол жоқ болса, **ештеңе жасамайды** (қате жоқ)."
      ]
    },
    {
      "cell_type": "code",
      "execution_count": null,
      "metadata": {},
      "outputs": [],
      "source": [
        "s = {10, 20, 30}\n",
        "\n",
        "# discard арқылы қауіпсіз жою\n",
        "s.discard(40) # 40 элементі жоқ, қате болмайды\n",
        "print(f\"discard(40) кейін: {s}\")\n",
        "\n",
        "s.discard(20)\n",
        "print(f\"discard(20) кейін: {s}\")\n",
        "\n",
        "# remove арқылы жою\n",
        "# Келесі жол қате тудырады, себебі 50 элементі жоқ\n",
        "# s.remove(50)"
      ]
    },
    {
      "cell_type": "markdown",
      "metadata": {},
      "source": [
        "### Жиындармен орындалатын операциялар\n",
        "Бұл жиындардың ең күшті жағы, логикалық операцияларды орындауға мүмкіндік береді."
      ]
    },
    {
      "cell_type": "markdown",
      "metadata": {},
      "source": [
        "#### Бірігу (Union)\n",
        "Екі жиынның барлық элементтерін қамтитын жаңа жиын құрады. Оператор: `|`"
      ]
    },
    {
      "cell_type": "code",
      "execution_count": null,
      "metadata": {},
      "outputs": [],
      "source": [
        "set1 = {1, 2, 3}\n",
        "set2 = {3, 4, 5}\n",
        "union_set = set1 | set2\n",
        "print(f\"Бірігу: {union_set}\")"
      ]
    },
    {
      "cell_type": "markdown",
      "metadata": {},
      "source": [
        "#### Қиылысу (Intersection)\n",
        "Тек екі жиында да бар элементтерді қамтитын жаңа жиын құрады. Оператор: `&`"
      ]
    },
    {
      "cell_type": "code",
      "execution_count": null,
      "metadata": {},
      "outputs": [],
      "source": [
        "set1 = {1, 2, 3}\n",
        "set2 = {3, 4, 5}\n",
        "intersection_set = set1 & set2\n",
        "print(f\"Қиылысу: {intersection_set}\")"
      ]
    },
    {
      "cell_type": "markdown",
      "metadata": {},
      "source": [
        "#### Айырма (Difference)\n",
        "Бірінші жиынның екіншісінде жоқ элементтерін қамтитын жаңа жиын құрады. Оператор: `-`"
      ]
    },
    {
      "cell_type": "code",
      "execution_count": null,
      "metadata": {},
      "outputs": [],
      "source": [
        "set1 = {1, 2, 3}\n",
        "set2 = {3, 4, 5}\n",
        "difference_set = set1 - set2\n",
        "print(f\"Айырма (set1 - set2): {difference_set}\")\n",
        "\n",
        "difference_set_2 = set2 - set1\n",
        "print(f\"Айырма (set2 - set1): {difference_set_2}\")"
      ]
    },
    {
      "cell_type": "markdown",
      "metadata": {},
      "source": [
        "#### Симметриялық айырма (Symmetric Difference)\n",
        "Жиындардың біреуінде бар, бірақ екеуінде бірдей жоқ элементтерді қамтитын жаңа жиын құрады. Оператор: `^`"
      ]
    },
    {
      "cell_type": "code",
      "execution_count": null,
      "metadata": {},
      "outputs": [],
      "source": [
        "set1 = {1, 2, 3}\n",
        "set2 = {3, 4, 5}\n",
        "sym_diff_set = set1 ^ set2\n",
        "print(f\"Симметриялық айырма: {sym_diff_set}\")"
      ]
    },
    {
      "cell_type": "markdown",
      "metadata": {},
      "source": [
        "## Қорытынды: Салыстырмалы кесте"
      ]
    },
    {
      "cell_type": "markdown",
      "metadata": {},
      "source": [
        "| Құрылым | Синтаксис | Өзгергіштік | Реттілік | Негізгі ерекшелігі |\n",
        "|:---:|:---:|:---:|:---:|:---|\n",
        "| **Тізім (List)** | `[1, 'a', 2]` | Иә | Иә | Әмбебап, өзгертілетін коллекция |\n",
        "| **Кортеж (Tuple)** | `(1, 'a', 2)` | **Жоқ** | Иә | Тізімнің өзгермейтін, \"қорғалған\" нұсқасы |\n",
        "| **Сөздік (Dict)**| `{'k1': 1, 'k2': 2}` | Иә | Иә (Python 3.7-ден) | \"кілт-мән\" жұптарын сақтау |\n",
        "| **Жиын (Set)**| `{1, 'a', 2}` немесе `set()`| Иә | **Жоқ** | Тек **бірегей** элементтерді сақтау |"
      ]
    }
  ],
  "metadata": {
    "kernelspec": {
      "display_name": "Python 3",
      "language": "python",
      "name": "python3"
    },
    "language_info": {
      "codemirror_mode": {
        "name": "ipython",
        "version": 3
      },
      "file_extension": ".py",
      "mimetype": "text/x-python",
      "name": "python",
      "nbconvert_exporter": "python",
      "pygments_lexer": "ipython3",
      "version": "3.9.12"
    }
  },
  "nbformat": 4,
  "nbformat_minor": 4
}