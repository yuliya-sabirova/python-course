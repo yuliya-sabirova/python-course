{
 "cells": [
  {
   "cell_type": "markdown",
   "metadata": {},
   "source": [
    "# Лекция №2: Условные операторы, модули и введение в циклы и списки\n",
    "\n",
    "**Цели лекции:**\n",
    "*   Познакомиться с булевым типом данных (`bool`).\n",
    "*   Изучить операторы сравнения и логические операторы.\n",
    "*   Освоить условные конструкции `if`, `elif`, `else` для создания ветвлений в программе.\n",
    "*   Научиться подключать модули и использовать их функции на примере модуля `math`."
   ]
  },
  {
   "cell_type": "markdown",
   "metadata": {},
   "source": [
    "## Часть 1: Логические основы\n",
    "\n",
    "До сих пор наши программы выполнялись строго линейно — одна команда за другой. Однако часто требуется, чтобы программа вела себя по-разному в зависимости от определенных условий. Для этого и нужны условные конструкции."
   ]
  },
  {
   "cell_type": "markdown",
   "metadata": {},
   "source": [
    "### 1.1. Булев тип данных (`bool`)\n",
    "\n",
    "В основе любой логики лежит понятие \"истина\" и \"ложь\". В Python для этого существует специальный тип данных `bool`, который может принимать всего два значения:\n",
    "*   `True` — истина\n",
    "*   `False` — ложь\n",
    "\n",
    "Обратите внимание, что эти слова пишутся с большой буквы."
   ]
  },
  {
   "cell_type": "code",
   "execution_count": 1,
   "metadata": {},
   "outputs": [
    {
     "name": "stdout",
     "output_type": "stream",
     "text": [
      "Является студентом: True\n",
      "Тип данных: <class 'bool'>\n"
     ]
    }
   ],
   "source": [
    "is_student = True\n",
    "is_admin = False\n",
    "\n",
    "print(\"Является студентом:\", is_student)\n",
    "print(\"Тип данных:\", type(is_student))"
   ]
  },
  {
   "cell_type": "markdown",
   "metadata": {},
   "source": [
    "### 1.2. Операторы сравнения\n",
    "\n",
    "Значения `True` и `False` чаще всего являются результатом сравнения двух значений. \n",
    "\n",
    "Основные операторы сравнения:\n",
    "*   `==` — Равно (обратите внимание, **два** знака равно!)\n",
    "*   `!=` — Не равно\n",
    "*   `>` — Больше\n",
    "*   `<` — Меньше\n",
    "*   `>=` — Больше или равно\n",
    "*   `<=` — Меньше или равно"
   ]
  },
  {
   "cell_type": "markdown",
   "metadata": {},
   "source": [
    "Сравнение чисел:"
   ]
  },
  {
   "cell_type": "code",
   "execution_count": 2,
   "metadata": {},
   "outputs": [
    {
     "name": "stdout",
     "output_type": "stream",
     "text": [
      "5 == 5: True\n"
     ]
    }
   ],
   "source": [
    "print(\"5 == 5:\", 5 == 5)"
   ]
  },
  {
   "cell_type": "code",
   "execution_count": null,
   "metadata": {},
   "outputs": [],
   "source": [
    "print(\"5 != 5:\", 5 != 5)"
   ]
  },
  {
   "cell_type": "code",
   "execution_count": null,
   "metadata": {},
   "outputs": [],
   "source": [
    "print(\"10 > 3:\", 10 > 3)"
   ]
  },
  {
   "cell_type": "markdown",
   "metadata": {},
   "source": [
    "Сравнение строк (происходит в алфавитном порядке):"
   ]
  },
  {
   "cell_type": "code",
   "execution_count": null,
   "metadata": {},
   "outputs": [],
   "source": [
    "print(\"'apple' == 'apple':\", 'apple' == 'apple')"
   ]
  },
  {
   "cell_type": "code",
   "execution_count": null,
   "metadata": {},
   "outputs": [],
   "source": [
    "print(\"'apple' == 'Apple':\", 'apple' == 'Apple') # Регистр имеет значение!"
   ]
  },
  {
   "cell_type": "markdown",
   "metadata": {},
   "source": [
    "## Часть 2: Условные конструкции\n",
    "\n",
    "### 2.1. Конструкция `if` (Если)\n",
    "\n",
    "Оператор `if` позволяет выполнить блок кода, только если заданное условие истинно (`True`).\n",
    "\n",
    "**Синтаксис:**\n",
    "```python\n",
    "if условие:\n",
    "    # Блок кода, который выполнится, если условие истинно\n",
    "    # Важен отступ в 4 пробела!\n",
    "```"
   ]
  },
  {
   "cell_type": "code",
   "execution_count": null,
   "metadata": {},
   "outputs": [],
   "source": [
    "temperature = 30\n",
    "\n",
    "if temperature > 25:\n",
    "    print(\"Сегодня жарко!\")\n",
    "    print(\"Не забудьте надеть головной убор.\")\n",
    "\n",
    "print(\"Программа завершена.\")"
   ]
  },
  {
   "cell_type": "markdown",
   "metadata": {},
   "source": [
    "### 2.2. Конструкция `if-else` (Если-Иначе)\n",
    "\n",
    "Конструкция `else` добавляет альтернативный блок кода, который выполняется, если условие в `if` ложно (`False`)."
   ]
  },
  {
   "cell_type": "code",
   "execution_count": null,
   "metadata": {},
   "outputs": [],
   "source": [
    "age = int(input(\"Введите ваш возраст: \"))\n",
    "\n",
    "if age >= 18:\n",
    "    print(\"Доступ разрешен.\")\n",
    "else:\n",
    "    print(\"Доступ запрещен. Вам еще нет 18.\")"
   ]
  },
  {
   "cell_type": "markdown",
   "metadata": {},
   "source": [
    "### 2.3. Конструкция `if-elif-else` (Если-Иначе если-Иначе)\n",
    "\n",
    "`elif` (сокращение от `else if`) позволяет проверять несколько условий последовательно. Это используется для создания \"цепочки\" проверок."
   ]
  },
  {
   "cell_type": "code",
   "execution_count": null,
   "metadata": {},
   "outputs": [],
   "source": [
    "grade = int(input(\"Введите вашу оценку (от 0 до 100): \"))\n",
    "\n",
    "if grade >= 90:\n",
    "    print(\"Оценка: A (Отлично)\")\n",
    "elif grade >= 75:\n",
    "    print(\"Оценка: B (Хорошо)\")\n",
    "elif grade >= 50:\n",
    "    print(\"Оценка: C (Удовлетворительно)\")\n",
    "else:\n",
    "    print(\"Оценка: F (Неудовлетворительно)\")"
   ]
  },
  {
   "cell_type": "markdown",
   "metadata": {},
   "source": [
    "### 2.4. Логические операторы `and`, `or`, `not`\n",
    "\n",
    "Эти операторы позволяют комбинировать несколько логических выражений:\n",
    "*   `and` (И) — истинно, только если **оба** условия истинны.\n",
    "*   `or` (ИЛИ) — истинно, если **хотя бы одно** из условий истинно.\n",
    "*   `not` (НЕ) — инвертирует значение (`True` становится `False` и наоборот)."
   ]
  },
  {
   "cell_type": "markdown",
   "metadata": {},
   "source": [
    "Пример с `and`:"
   ]
  },
  {
   "cell_type": "code",
   "execution_count": null,
   "metadata": {},
   "outputs": [],
   "source": [
    "age = 25\n",
    "has_license = True\n",
    "\n",
    "if age >= 18 and has_license == True:\n",
    "    print(\"Вы можете водить машину.\")"
   ]
  },
  {
   "cell_type": "markdown",
   "metadata": {},
   "source": [
    "Пример с `or`:"
   ]
  },
  {
   "cell_type": "code",
   "execution_count": null,
   "metadata": {},
   "outputs": [],
   "source": [
    "day = \"Sunday\"\n",
    "\n",
    "if day == \"Saturday\" or day == \"Sunday\":\n",
    "    print(\"Сегодня выходной!\")"
   ]
  },
  {
   "cell_type": "markdown",
   "metadata": {},
   "source": [
    "Пример с `not`:"
   ]
  },
  {
   "cell_type": "code",
   "execution_count": null,
   "metadata": {},
   "outputs": [],
   "source": [
    "is_raining = False\n",
    "\n",
    "if not is_raining:\n",
    "    print(\"Дождя нет, можно идти гулять.\")"
   ]
  },
  {
   "cell_type": "markdown",
   "metadata": {},
   "source": [
    "### 2.5. Тернарный условный оператор\n",
    "\n",
    "Иногда простую конструкцию `if-else` нужно использовать только для того, чтобы присвоить переменной одно из двух значений. В таких случаях можно использовать более короткую запись — **тернарный оператор**.\n",
    "\n",
    "**Синтаксис:** `значение_если_True if условие else значение_если_False`"
   ]
  },
  {
   "cell_type": "markdown",
   "metadata": {},
   "source": [
    "Сравним обычную запись:"
   ]
  },
  {
   "cell_type": "code",
   "execution_count": null,
   "metadata": {},
   "outputs": [],
   "source": [
    "age = 20\n",
    "status = \"\"\n",
    "if age >= 18:\n",
    "    status = \"совершеннолетний\"\n",
    "else:\n",
    "    status = \"несовершеннолетний\"\n",
    "\n",
    "print(status)"
   ]
  },
  {
   "cell_type": "markdown",
   "metadata": {},
   "source": [
    "И запись с помощью тернарного оператора:"
   ]
  },
  {
   "cell_type": "code",
   "execution_count": null,
   "metadata": {},
   "outputs": [],
   "source": [
    "age = 20\n",
    "status = \"совершеннолетний\" if age >= 18 else \"несовершеннолетний\"\n",
    "print(status)"
   ]
  },
  {
   "cell_type": "markdown",
   "metadata": {},
   "source": [
    "## Часть 3: Модули\n",
    "\n",
    "### 3.1. Что такое модуль и зачем он нужен?\n",
    "\n",
    "**Модуль** — это файл с кодом на Python, который содержит готовые функции, переменные и классы. Модули позволяют не писать весь код с нуля, а использовать уже существующие, проверенные решения.\n",
    "\n",
    "Python поставляется с огромным количеством встроенных модулей, которые называются **стандартной библиотекой**. Один из самых полезных для начала — модуль `math`."
   ]
  },
  {
   "cell_type": "markdown",
   "metadata": {},
   "source": [
    "### 3.2. Подключение и использование модуля `math`\n",
    "\n",
    "Чтобы использовать функции из модуля, его нужно сначала **импортировать** с помощью команды `import`."
   ]
  },
  {
   "cell_type": "code",
   "execution_count": null,
   "metadata": {},
   "outputs": [],
   "source": [
    "import math # Импортируем модуль math"
   ]
  },
  {
   "cell_type": "markdown",
   "metadata": {},
   "source": [
    "После импорта мы можем обращаться к его функциям через точку: `имя_модуля.имя_функции()`.\n",
    "\n",
    "Некоторые полезные функции `math`:\n",
    "- `math.sqrt(x)` — вычисляет квадратный корень из `x`.\n",
    "- `math.pow(x, y)` — возводит `x` в степень `y`.\n",
    "- `math.ceil(x)` — округляет `x` до ближайшего целого **вверх**.\n",
    "- `math.floor(x)` — округляет `x` до ближайшего целого **вниз**.\n",
    "- `math.pi` — константа, содержащая число Пи."
   ]
  },
  {
   "cell_type": "code",
   "execution_count": null,
   "metadata": {},
   "outputs": [],
   "source": [
    "number = 16\n",
    "root = math.sqrt(number)\n",
    "print(f\"Квадратный корень из {number} равен {root}\")"
   ]
  },
  {
   "cell_type": "code",
   "execution_count": null,
   "metadata": {},
   "outputs": [],
   "source": [
    "print(f\"2 в 10 степени равно {math.pow(2, 10)}\")"
   ]
  },
  {
   "cell_type": "code",
   "execution_count": null,
   "metadata": {},
   "outputs": [],
   "source": [
    "number = 3.14\n",
    "print(f\"{number} округленный вверх: {math.ceil(number)}\")\n",
    "print(f\"{number} округленный вниз: {math.floor(number)}\")"
   ]
  },
  {
   "cell_type": "code",
   "execution_count": null,
   "metadata": {},
   "outputs": [],
   "source": [
    "radius = 5\n",
    "circle_area = math.pi * (radius ** 2)\n",
    "print(f\"Площадь круга с радиусом {radius} равна {circle_area}\")"
   ]
  },
  {
   "cell_type": "markdown",
   "metadata": {},
   "source": [
    "### 3.3. Выборочный импорт функций/классов\n",
    "\n",
    "Импортируем только нужные элементы из модуля."
   ]
  },
  {
   "cell_type": "code",
   "execution_count": 3,
   "metadata": {},
   "outputs": [
    {
     "name": "stdout",
     "output_type": "stream",
     "text": [
      "5.0\n",
      "3.141592653589793\n"
     ]
    }
   ],
   "source": [
    "from math import sqrt, pi\n",
    "\n",
    "print(sqrt(25))  # 5.0\n",
    "print(pi)        # 3.141592653589793"
   ]
  },
  {
   "cell_type": "markdown",
   "metadata": {},
   "source": [
    "### 3.4. Импорт с алиасом (псевдонимом)\n",
    "\n",
    "Удобно для сокращения длинных имён."
   ]
  },
  {
   "cell_type": "code",
   "execution_count": 4,
   "metadata": {},
   "outputs": [
    {
     "name": "stdout",
     "output_type": "stream",
     "text": [
      "120\n"
     ]
    }
   ],
   "source": [
    "import math as m\n",
    "\n",
    "print(m.factorial(5))  # 120"
   ]
  },
  {
   "cell_type": "markdown",
   "metadata": {},
   "source": [
    "Также можно давать псевдоним отдельным функциям:"
   ]
  },
  {
   "cell_type": "code",
   "execution_count": 5,
   "metadata": {},
   "outputs": [
    {
     "name": "stdout",
     "output_type": "stream",
     "text": [
      "720\n"
     ]
    }
   ],
   "source": [
    "from math import factorial as fact\n",
    "\n",
    "print(fact(6))  # 720"
   ]
  },
  {
   "cell_type": "markdown",
   "metadata": {},
   "source": [
    "### 3.5 Импорт всего содержимого (import *)\n",
    "\n",
    "Импортирует всё, но не рекомендуется, так как засоряет пространство имён."
   ]
  },
  {
   "cell_type": "code",
   "execution_count": 6,
   "metadata": {},
   "outputs": [
    {
     "name": "stdout",
     "output_type": "stream",
     "text": [
      "6.0\n",
      "1.0\n"
     ]
    }
   ],
   "source": [
    "from math import *\n",
    "\n",
    "print(sqrt(36))  # 6.0\n",
    "print(sin(pi/2)) # 1.0"
   ]
  },
  {
   "cell_type": "markdown",
   "metadata": {},
   "source": [
    "## Часть 4: Введение в списки и циклы\n",
    "\n",
    "### 4.1. Списки (`list`)\n",
    "\n",
    "**Список** — это упорядоченная, **изменяемая** коллекция элементов. В одном списке могут храниться данные разных типов.\n",
    "\n",
    "Списки создаются с помощью квадратных скобок `[]`, элементы перечисляются через запятую."
   ]
  },
  {
   "cell_type": "code",
   "execution_count": null,
   "metadata": {},
   "outputs": [],
   "source": [
    "my_list = [10, \"hello\", 3.14, True]\n",
    "print(my_list)"
   ]
  },
  {
   "cell_type": "markdown",
   "metadata": {},
   "source": [
    "#### Обращение к элементам и срезы\n",
    "Обращение к элементам списка происходит по **индексу** (начиная с 0), а срезы для получения части списка работают **точно так же, как и в строках**."
   ]
  },
  {
   "cell_type": "code",
   "execution_count": null,
   "metadata": {},
   "outputs": [],
   "source": [
    "numbers = [10, 20, 30, 40, 50]\n",
    "\n",
    "print(f\"Первый элемент: {numbers[0]}\")\n",
    "print(f\"Последний элемент: {numbers[-1]}\")"
   ]
  },
  {
   "cell_type": "code",
   "execution_count": null,
   "metadata": {},
   "outputs": [],
   "source": [
    "numbers = [10, 20, 30, 40, 50]\n",
    "\n",
    "print(f\"Срез с 1-го по 3-й элемент: {numbers[1:4]}\")"
   ]
  },
  {
   "cell_type": "markdown",
   "metadata": {},
   "source": [
    "> Более подробно методы и возможности списков мы изучим на следующих занятиях. Сейчас нам важно понять, как их перебирать."
   ]
  },
  {
   "cell_type": "markdown",
   "metadata": {},
   "source": [
    "### 4.2. Цикл `for`\n",
    "\n",
    "Цикл `for` — это основной способ для **перебора** элементов в последовательностях (таких как строки или списки). Он выполняет блок кода для каждого элемента коллекции.\n",
    "\n",
    "Существует два основных способа организации цикла `for`:"
   ]
  },
  {
   "cell_type": "markdown",
   "metadata": {},
   "source": [
    "#### Способ 1: Перебор по элементам\n",
    "Используется, когда нам важны только **значения** элементов.\n",
    "**Синтаксис:** `for переменная in коллекция:`"
   ]
  },
  {
   "cell_type": "code",
   "execution_count": null,
   "metadata": {},
   "outputs": [],
   "source": [
    "fruits = [\"яблоко\", \"банан\", \"вишня\"]\n",
    "for fruit in fruits:\n",
    "    print(f\"Я люблю {fruit}\")"
   ]
  },
  {
   "cell_type": "markdown",
   "metadata": {},
   "source": [
    "#### Способ 2: Перебор по индексам\n",
    "Используется, когда нам важны не только значения, но и их **индексы** (порядковые номера). Для этого используется функция `range(len(коллекция))`.\n",
    "**Синтаксис:** `for i in range(len(коллекция)):`"
   ]
  },
  {
   "cell_type": "code",
   "execution_count": null,
   "metadata": {},
   "outputs": [],
   "source": [
    "fruits = [\"яблоко\", \"банан\", \"вишня\"]\n",
    "for i in range(len(fruits)):\n",
    "    print(f\"Элемент с индексом {i}: {fruits[i]}\")"
   ]
  },
  {
   "cell_type": "markdown",
   "metadata": {},
   "source": [
    "### 4.3. Комбинация циклов и условных операторов\n",
    "\n",
    "Самая большая мощь циклов раскрывается, когда внутри них мы используем `if` для анализа каждого элемента."
   ]
  },
  {
   "cell_type": "markdown",
   "metadata": {},
   "source": [
    "**Пример 1: Найти и вывести только положительные числа из списка.**"
   ]
  },
  {
   "cell_type": "code",
   "execution_count": null,
   "metadata": {
    "jupyter": {
     "source_hidden": true
    }
   },
   "outputs": [],
   "source": [
    "numbers = [10, -5, 0, 22, -1, 8]\n",
    "\n",
    "print(\"Положительные числа:\")\n",
    "for num in numbers:\n",
    "    if num > 0:\n",
    "        print(num)"
   ]
  },
  {
   "cell_type": "markdown",
   "metadata": {},
   "source": [
    "**Пример 2: Создать новый список, содержащий только слова длиннее 5 символов.**"
   ]
  },
  {
   "cell_type": "code",
   "execution_count": null,
   "metadata": {},
   "outputs": [],
   "source": [
    "words = [\"программирование\", \"Python\", \"код\", \"алгоритм\", \"цикл\"]\n",
    "long_words = [] # Создаем пустой список для результатов\n",
    "\n",
    "for word in words:\n",
    "    if len(word) > 5:\n",
    "        long_words.append(word) # Метод .append() добавляет элемент в конец списка\n",
    "\n",
    "print(\"Длинные слова:\", long_words)"
   ]
  },
  {
   "cell_type": "markdown",
   "metadata": {},
   "source": [
    "## Часть 5. Обработка ошибок: `try-except`\n",
    "\n",
    "Что произойдет, если пользователь введет текст там, где программа ожидает число? Программа \"упадет\" с ошибкой. Чтобы этого избежать и обрабатывать такие ситуации корректно, используется конструкция `try-except`.\n",
    "\n",
    "- В блок `try` помещается код, который **может** вызвать ошибку.\n",
    "- В блок `except` помещается код, который выполнится, **если** ошибка действительно произошла."
   ]
  },
  {
   "cell_type": "markdown",
   "metadata": {},
   "source": [
    "Этот код вызовет ошибку `ValueError`, если ввести не число:"
   ]
  },
  {
   "cell_type": "code",
   "execution_count": 4,
   "metadata": {},
   "outputs": [
    {
     "name": "stdin",
     "output_type": "stream",
     "text": [
      "Введите возраст:  56\n"
     ]
    },
    {
     "name": "stdout",
     "output_type": "stream",
     "text": [
      "Ваш возраст: 56\n"
     ]
    }
   ],
   "source": [
    "age_str = input(\"Введите возраст: \")\n",
    "age = int(age_str)\n",
    "print(f\"Ваш возраст: {age}\")"
   ]
  },
  {
   "cell_type": "markdown",
   "metadata": {},
   "source": [
    "А этот код обработает ошибку и выведет корректное сообщение:"
   ]
  },
  {
   "cell_type": "code",
   "execution_count": 2,
   "metadata": {},
   "outputs": [
    {
     "name": "stdin",
     "output_type": "stream",
     "text": [
      "Введите возраст:  hi\n"
     ]
    },
    {
     "name": "stdout",
     "output_type": "stream",
     "text": [
      "Ошибка: вы ввели не число!\n"
     ]
    }
   ],
   "source": [
    "try:\n",
    "    age_str = input(\"Введите возраст: \")\n",
    "    age = int(age_str)\n",
    "    print(f\"Ваш возраст: {age}\")\n",
    "except ValueError:\n",
    "    print(\"Ошибка: вы ввели не число!\")"
   ]
  }
 ],
 "metadata": {
  "kernelspec": {
   "display_name": "Python [conda env:base] *",
   "language": "python",
   "name": "conda-base-py"
  },
  "language_info": {
   "codemirror_mode": {
    "name": "ipython",
    "version": 3
   },
   "file_extension": ".py",
   "mimetype": "text/x-python",
   "name": "python",
   "nbconvert_exporter": "python",
   "pygments_lexer": "ipython3",
   "version": "3.13.5"
  }
 },
 "nbformat": 4,
 "nbformat_minor": 4
}
