{
 "cells": [
  {
   "cell_type": "markdown",
   "metadata": {},
   "source": [
    "# Лекция №4: Продвинутые структуры данных: кортежи, словари, множества\n",
    "\n",
    "### Цели лекции:\n",
    "1.  **Повторить** ключевые особенности списков (`list`) как основы для сравнения.\n",
    "2.  **Изучить кортежи (`tuple`):** понять их главную особенность — неизменяемость, научиться создавать их, обращаться к элементам и использовать в подходящих ситуациях.\n",
    "3.  **Освоить словари (`dict`):** научиться работать с данными в формате \"ключ-значение\", управлять элементами и применять основные методы.\n",
    "4.  **Познакомиться с множествами (`set`):** понять их пользу для хранения уникальных элементов и выполнения математических операций, таких как объединение, пересечение и разность.\n",
    "5.  **Сформировать четкое понимание**, какую структуру данных выбирать для решения конкретных задач."
   ]
  },
  {
   "cell_type": "markdown",
   "metadata": {},
   "source": [
    "### Краткое повторение: Списки (list)\n",
    "\n",
    "Прежде чем перейти к новым структурам, вспомним, что такое **список**. Это самая универсальная и часто используемая коллекция в Python.\n",
    "\n",
    "**Ключевые характеристики:**\n",
    "- **Изменяемый (Mutable):** Элементы можно добавлять, удалять и изменять после создания списка.\n",
    "- **Упорядоченный (Ordered):** Элементы хранятся в определенном порядке, и этот порядок сохраняется. У каждого элемента есть свой индекс.\n",
    "- **Индексируемый:** Доступ к элементам осуществляется по числовому индексу (начиная с 0)."
   ]
  },
  {
   "cell_type": "code",
   "execution_count": null,
   "metadata": {},
   "outputs": [],
   "source": [
    "# Пример создания и изменения списка\n",
    "my_list = [10, \"hello\", 20.5]\n",
    "print(f\"Исходный список: {my_list}\")\n",
    "\n",
    "# Изменение элемента\n",
    "my_list[1] = \"world\"\n",
    "\n",
    "# Добавление элемента\n",
    "my_list.append(True)\n",
    "\n",
    "print(f\"Измененный список: {my_list}\")"
   ]
  },
  {
   "cell_type": "markdown",
   "metadata": {},
   "source": [
    "## Часть 1. Кортежи (Tuples) — Неизменяемые братья списков\n",
    "\n",
    "**Кортеж (tuple)** — это, по сути, тот же список, но с одним критически важным отличием: он **неизменяемый (immutable)**.\n",
    "\n",
    "**Ключевые характеристики:**\n",
    "- **Неизменяемый (Immutable):** После создания кортежа его элементы НЕЛЬЗЯ изменить, добавить или удалить.\n",
    "- **Упорядоченный (Ordered):** Как и списки, хранит элементы в определенном порядке.\n",
    "- **Индексируемый:** Доступ к элементам осуществляется по индексу.\n",
    "\n",
    "**Когда использовать кортежи?**\n",
    "1.  **Для защиты данных:** Когда вы хотите быть уверены, что ваши данные (например, координаты, RGB-коды цветов, настройки) случайно не изменятся.\n",
    "2.  **В качестве ключей словаря:** Ключи в словарях должны быть неизменяемыми, поэтому кортежи подходят для этой роли, а списки — нет.\n",
    "3.  **Для возврата нескольких значений из функции:** Функции часто возвращают результаты в виде кортежа."
   ]
  },
  {
   "cell_type": "markdown",
   "metadata": {},
   "source": [
    "### Создание кортежей"
   ]
  },
  {
   "cell_type": "code",
   "execution_count": null,
   "metadata": {},
   "outputs": [],
   "source": [
    "# Создание с помощью круглых скобок\n",
    "my_tuple = (1, 2, \"a\", \"b\")\n",
    "print(my_tuple)\n",
    "\n",
    "# Скобки можно и опустить\n",
    "another_tuple = 10, 20, 30\n",
    "print(another_tuple)\n",
    "\n",
    "# ВАЖНО: создание кортежа из одного элемента требует запятой!\n",
    "single_element_tuple = (42,)\n",
    "not_a_tuple = (42)\n",
    "print(f\"Это кортеж: {single_element_tuple}, тип: {type(single_element_tuple)}\")\n",
    "print(f\"А это просто число: {not_a_tuple}, тип: {type(not_a_tuple)}\")"
   ]
  },
  {
   "cell_type": "markdown",
   "metadata": {},
   "source": [
    "### Доступ к элементам и срезы\n",
    "\n",
    "Работает абсолютно так же, как и со списками."
   ]
  },
  {
   "cell_type": "code",
   "execution_count": null,
   "metadata": {},
   "outputs": [],
   "source": [
    "data_tuple = ('a', 'b', 'c', 'd', 'e')\n",
    "\n",
    "# Доступ по индексу\n",
    "print(f\"Первый элемент: {data_tuple[0]}\")\n",
    "print(f\"Последний элемент: {data_tuple[-1]}\")\n",
    "\n",
    "# Срезы\n",
    "print(f\"Элементы с 1 по 3: {data_tuple[1:4]}\")\n",
    "print(f\"Кортеж в обратном порядке: {data_tuple[::-1]}\")"
   ]
  },
  {
   "cell_type": "markdown",
   "metadata": {},
   "source": [
    "### Главное свойство: неизменяемость\n",
    "\n",
    "Попытка изменить элемент кортежа приведет к ошибке `TypeError`."
   ]
  },
  {
   "cell_type": "code",
   "execution_count": null,
   "metadata": {},
   "outputs": [],
   "source": [
    "immutable_tuple = (10, 20, 30)\n",
    "\n",
    "# Следующая строка вызовет ошибку. Раскомментируйте ее, чтобы проверить.\n",
    "# immutable_tuple[0] = 100\n",
    "\n",
    "# Ошибка: TypeError: 'tuple' object does not support item assignment"
   ]
  },
  {
   "cell_type": "markdown",
   "metadata": {},
   "source": [
    "### Методы кортежей\n",
    "Из-за неизменяемости у кортежей всего два основных метода."
   ]
  },
  {
   "cell_type": "markdown",
   "metadata": {},
   "source": [
    "#### Метод `.count()`\n",
    "Считает, сколько раз определенный элемент встречается в кортеже."
   ]
  },
  {
   "cell_type": "code",
   "execution_count": null,
   "metadata": {},
   "outputs": [],
   "source": [
    "counts_tuple = (1, 2, 5, 2, 8, 2, 9)\n",
    "count_of_twos = counts_tuple.count(2)\n",
    "print(f\"Число 2 встречается {count_of_twos} раз.\")"
   ]
  },
  {
   "cell_type": "markdown",
   "metadata": {},
   "source": [
    "#### Метод `.index()`\n",
    "Возвращает индекс первого вхождения указанного элемента."
   ]
  },
  {
   "cell_type": "code",
   "execution_count": null,
   "metadata": {},
   "outputs": [],
   "source": [
    "index_tuple = ('a', 'b', 'c', 'd', 'b')\n",
    "index_of_b = index_tuple.index('b')\n",
    "print(f\"Первое вхождение 'b' находится по индексу: {index_of_b}\")"
   ]
  },
  {
   "cell_type": "markdown",
   "metadata": {},
   "source": [
    "### Операции с кортежами\n",
    "Хотя кортежи нельзя изменить, из них можно создавать новые."
   ]
  },
  {
   "cell_type": "markdown",
   "metadata": {},
   "source": [
    "#### Сложение (конкатенация) и умножение (повторение)"
   ]
  },
  {
   "cell_type": "code",
   "execution_count": null,
   "metadata": {},
   "outputs": [],
   "source": [
    "t1 = (1, 2)\n",
    "t2 = (3, 4)\n",
    "\n",
    "# Сложение создает новый кортеж\n",
    "t3 = t1 + t2\n",
    "print(f\"Результат сложения: {t3}\")\n",
    "\n",
    "# Умножение повторяет элементы\n",
    "t4 = t1 * 3\n",
    "print(f\"Результат умножения: {t4}\")"
   ]
  },
  {
   "cell_type": "markdown",
   "metadata": {},
   "source": [
    "### Распаковка (Unpacking)\n",
    "Очень удобная возможность присвоить элементы кортежа отдельным переменным. Количество переменных должно совпадать с количеством элементов."
   ]
  },
  {
   "cell_type": "code",
   "execution_count": null,
   "metadata": {},
   "outputs": [],
   "source": [
    "personal_data = (\"Иван\", \"Иванов\", 30)\n",
    "\n",
    "# Распаковка\n",
    "first_name, last_name, age = personal_data\n",
    "\n",
    "print(f\"Имя: {first_name}\")\n",
    "print(f\"Фамилия: {last_name}\")\n",
    "print(f\"Возраст: {age}\")"
   ]
  },
  {
   "cell_type": "markdown",
   "metadata": {},
   "source": [
    "#### Расширенная распаковка с `*`\n",
    "Позволяет \"собрать\" оставшиеся элементы в список."
   ]
  },
  {
   "cell_type": "code",
   "execution_count": null,
   "metadata": {},
   "outputs": [],
   "source": [
    "long_tuple = (1, 2, 3, 4, 5, 6, 7)\n",
    "\n",
    "first, second, *others, last = long_tuple\n",
    "\n",
    "print(f\"Первый: {first}\")\n",
    "print(f\"Второй: {second}\")\n",
    "print(f\"Последний: {last}\")\n",
    "print(f\"Остальные (в виде списка): {others}\")"
   ]
  },
  {
   "cell_type": "markdown",
   "metadata": {},
   "source": [
    "## Часть 2. Словари (dict) — Всё по своим местам\n",
    "\n",
    "**Словарь (dict)** — это структура данных для хранения пар **\"ключ-значение\"**.\n",
    "\n",
    "**Ключевые характеристики:**\n",
    "- **Изменяемый (Mutable):** Можно добавлять, изменять и удалять пары.\n",
    "- **Упорядоченный (с Python 3.7):** Современные версии Python сохраняют порядок, в котором были добавлены элементы. Но полагаться на это как на основное свойство не стоит.\n",
    "- **Доступ по ключу:** Элементы извлекаются не по числовому индексу, а по уникальному ключу.\n",
    "- **Уникальные ключи:** Все ключи в словаре должны быть уникальными и неизменяемыми (числа, строки, кортежи)."
   ]
  },
  {
   "cell_type": "markdown",
   "metadata": {},
   "source": [
    "### Создание словарей"
   ]
  },
  {
   "cell_type": "code",
   "execution_count": null,
   "metadata": {},
   "outputs": [],
   "source": [
    "# Создание с помощью фигурных скобок\n",
    "student = {\n",
    "    \"name\": \"Алиса\",\n",
    "    \"age\": 20,\n",
    "    \"courses\": [\"Математика\", \"Программирование\"]\n",
    "}\n",
    "print(student)\n",
    "\n",
    "# Создание пустого словаря\n",
    "empty_dict = {}\n",
    "print(f\"Пустой словарь: {empty_dict}\")"
   ]
  },
  {
   "cell_type": "markdown",
   "metadata": {},
   "source": [
    "### Доступ, добавление и изменение элементов"
   ]
  },
  {
   "cell_type": "code",
   "execution_count": null,
   "metadata": {},
   "outputs": [],
   "source": [
    "car = {\"brand\": \"Toyota\", \"model\": \"Camry\"}\n",
    "\n",
    "# Доступ к значению по ключу\n",
    "print(f\"Марка: {car['brand']}\")\n",
    "\n",
    "# Добавление новой пары\n",
    "car[\"year\"] = 2022\n",
    "print(f\"С добавленным годом: {car}\")\n",
    "\n",
    "# Изменение существующего значения\n",
    "car[\"year\"] = 2023\n",
    "print(f\"С измененным годом: {car}\")"
   ]
  },
  {
   "cell_type": "markdown",
   "metadata": {},
   "source": [
    "### Удаление элементов"
   ]
  },
  {
   "cell_type": "code",
   "execution_count": null,
   "metadata": {},
   "outputs": [],
   "source": [
    "user = {\"id\": 101, \"login\": \"testuser\", \"role\": \"guest\"}\n",
    "print(f\"Исходный словарь: {user}\")\n",
    "\n",
    "# Удаление с помощью оператора del\n",
    "del user[\"role\"]\n",
    "\n",
    "print(f\"После удаления: {user}\")"
   ]
  },
  {
   "cell_type": "markdown",
   "metadata": {},
   "source": [
    "### Основные методы словарей"
   ]
  },
  {
   "cell_type": "markdown",
   "metadata": {},
   "source": [
    "#### Метод `.get()`\n",
    "Безопасный способ получить значение. Если ключа нет, он не вызовет ошибку, а вернет `None` или значение по умолчанию."
   ]
  },
  {
   "cell_type": "code",
   "execution_count": null,
   "metadata": {},
   "outputs": [],
   "source": [
    "config = {\"host\": \"localhost\", \"port\": 8080}\n",
    "\n",
    "# Получаем существующий ключ\n",
    "host = config.get(\"host\")\n",
    "print(f\"Хост: {host}\")\n",
    "\n",
    "# Пытаемся получить несуществующий ключ (вернется None)\n",
    "user = config.get(\"user\")\n",
    "print(f\"Пользователь: {user}\")\n",
    "\n",
    "# Пытаемся получить несуществующий ключ со значением по умолчанию\n",
    "password = config.get(\"password\", \"default_password\")\n",
    "print(f\"Пароль: {password}\")"
   ]
  },
  {
   "cell_type": "markdown",
   "metadata": {},
   "source": [
    "#### Методы `.keys()`, `.values()`, `.items()`\n",
    "Позволяют получить, соответственно, все ключи, все значения или все пары (ключ, значение) в виде специальных объектов-представлений."
   ]
  },
  {
   "cell_type": "code",
   "execution_count": null,
   "metadata": {},
   "outputs": [],
   "source": [
    "fruits = {\"apple\": 5, \"banana\": 10, \"orange\": 7}\n",
    "\n",
    "all_keys = fruits.keys()\n",
    "print(f\"Ключи: {all_keys}\")\n",
    "\n",
    "all_values = fruits.values()\n",
    "print(f\"Значения: {all_values}\")\n",
    "\n",
    "all_items = fruits.items()\n",
    "print(f\"Пары: {all_items}\")\n",
    "\n",
    "# Их очень удобно использовать в циклах\n",
    "print(\"\\nПеребор пар:\")\n",
    "for key, value in fruits.items():\n",
    "    print(f\"Фрукт: {key}, Количество: {value}\")"
   ]
  },
  {
   "cell_type": "markdown",
   "metadata": {},
   "source": [
    "#### Метод `.update()`\n",
    "Объединяет один словарь с другим. Если ключи совпадают, значения из второго словаря перезаписывают значения первого."
   ]
  },
  {
   "cell_type": "code",
   "execution_count": null,
   "metadata": {},
   "outputs": [],
   "source": [
    "dict1 = {'a': 1, 'b': 2}\n",
    "dict2 = {'b': 3, 'c': 4}\n",
    "\n",
    "# Обновляем dict1 данными из dict2\n",
    "dict1.update(dict2)\n",
    "\n",
    "print(f\"Результат: {dict1}\")"
   ]
  },
  {
   "cell_type": "markdown",
   "metadata": {},
   "source": [
    "#### Создание словарей из других коллекций"
   ]
  },
  {
   "cell_type": "code",
   "execution_count": null,
   "metadata": {},
   "outputs": [],
   "source": [
    "# Из списка кортежей\n",
    "pairs = [(\"a\", 1), (\"b\", 2), (\"c\", 3)]\n",
    "dict_from_pairs = dict(pairs)\n",
    "print(f\"Словарь из пар: {dict_from_pairs}\")\n",
    "\n",
    "# Из двух списков с помощью zip()\n",
    "keys = [\"name\", \"age\", \"city\"]\n",
    "values = [\"Alice\", 25, \"New York\"]\n",
    "dict_from_zip = dict(zip(keys, values))\n",
    "print(f\"Словарь из двух списков: {dict_from_zip}\")"
   ]
  },
  {
   "cell_type": "markdown",
   "metadata": {},
   "source": [
    "## Часть 3. Множества (set) — Территория уникальности\n",
    "\n",
    "**Множество (set)** — это коллекция, которая может хранить только **уникальные** элементы.\n",
    "\n",
    "**Ключевые характеристики:**\n",
    "- **Изменяемый (Mutable):** Элементы можно добавлять и удалять.\n",
    "- **Неупорядоченный (Unordered):** Элементы не имеют определенного порядка. Доступ по индексу невозможен.\n",
    "- **Уникальные элементы:** Множество автоматически удаляет все дубликаты.\n",
    "\n",
    "**Когда использовать множества?**\n",
    "1.  **Удаление дубликатов:** Самый быстрый способ удалить повторяющиеся элементы из списка.\n",
    "2.  **Проверка на вхождение:** Проверка `element in my_set` работает намного быстрее, чем для списков.\n",
    "3.  **Математические операции:** Для нахождения пересечений, объединений, разностей коллекций."
   ]
  },
  {
   "cell_type": "markdown",
   "metadata": {},
   "source": [
    "### Создание множеств"
   ]
  },
  {
   "cell_type": "code",
   "execution_count": null,
   "metadata": {},
   "outputs": [],
   "source": [
    "# Создание из списка с дубликатами\n",
    "my_list_with_duplicates = [1, 2, 3, 2, 1, 4, 5, 4]\n",
    "my_set = set(my_list_with_duplicates)\n",
    "print(f\"Множество из списка: {my_set}\") # Дубликаты удалены\n",
    "\n",
    "# Создание с помощью фигурных скобок\n",
    "another_set = { 'a', 'b', 'c' }\n",
    "print(f\"Другое множество: {another_set}\")\n",
    "\n",
    "# ВАЖНО: для создания пустого множества используйте set(), а не {}!\n",
    "empty_set = set()\n",
    "empty_dict = {}\n",
    "print(f\"Тип empty_set: {type(empty_set)}\")\n",
    "print(f\"Тип empty_dict: {type(empty_dict)}\")"
   ]
  },
  {
   "cell_type": "markdown",
   "metadata": {},
   "source": [
    "### Основные методы для изменения множеств"
   ]
  },
  {
   "cell_type": "markdown",
   "metadata": {},
   "source": [
    "#### Метод `.add()`\n",
    "Добавляет один элемент в множество. Если элемент уже есть, ничего не происходит."
   ]
  },
  {
   "cell_type": "code",
   "execution_count": null,
   "metadata": {},
   "outputs": [],
   "source": [
    "s = {1, 2, 3}\n",
    "s.add(4)\n",
    "print(f\"После добавления 4: {s}\")\n",
    "s.add(2) # Попытка добавить существующий элемент\n",
    "print(f\"После добавления 2: {s}\")"
   ]
  },
  {
   "cell_type": "markdown",
   "metadata": {},
   "source": [
    "#### Методы `.remove()` и `.discard()`\n",
    "Оба удаляют элемент, но ведут себя по-разному, если элемента не существует.\n",
    "- `.remove(element)`: удаляет элемент. Если его нет, **вызывает ошибку** `KeyError`.\n",
    "- `.discard(element)`: удаляет элемент. Если его нет, **ничего не делает** (ошибки нет)."
   ]
  },
  {
   "cell_type": "code",
   "execution_count": null,
   "metadata": {},
   "outputs": [],
   "source": [
    "s = {10, 20, 30}\n",
    "\n",
    "# Безопасное удаление с discard\n",
    "s.discard(40) # Элемента 40 нет, ошибки не будет\n",
    "print(f\"После discard(40): {s}\")\n",
    "\n",
    "s.discard(20)\n",
    "print(f\"После discard(20): {s}\")\n",
    "\n",
    "# Удаление с remove\n",
    "# Следующая строка вызовет ошибку, т.к. элемента 50 нет\n",
    "# s.remove(50)"
   ]
  },
  {
   "cell_type": "markdown",
   "metadata": {},
   "source": [
    "### Операции над множествами\n",
    "Это самая сильная сторона множеств, позволяющая выполнять логические операции."
   ]
  },
  {
   "cell_type": "markdown",
   "metadata": {},
   "source": [
    "#### Объединение (Union)\n",
    "Создает новое множество, содержащее все элементы из обоих множеств. Оператор: `|`"
   ]
  },
  {
   "cell_type": "code",
   "execution_count": null,
   "metadata": {},
   "outputs": [],
   "source": [
    "set1 = {1, 2, 3}\n",
    "set2 = {3, 4, 5}\n",
    "union_set = set1 | set2\n",
    "print(f\"Объединение: {union_set}\")"
   ]
  },
  {
   "cell_type": "markdown",
   "metadata": {},
   "source": [
    "#### Пересечение (Intersection)\n",
    "Создает новое множество, содержащее только те элементы, которые есть в обоих множествах. Оператор: `&`"
   ]
  },
  {
   "cell_type": "code",
   "execution_count": null,
   "metadata": {},
   "outputs": [],
   "source": [
    "set1 = {1, 2, 3}\n",
    "set2 = {3, 4, 5}\n",
    "intersection_set = set1 & set2\n",
    "print(f\"Пересечение: {intersection_set}\")"
   ]
  },
  {
   "cell_type": "markdown",
   "metadata": {},
   "source": [
    "#### Разность (Difference)\n",
    "Создает новое множество, содержащее элементы из первого множества, которых нет во втором. Оператор: `-`"
   ]
  },
  {
   "cell_type": "code",
   "execution_count": null,
   "metadata": {},
   "outputs": [],
   "source": [
    "set1 = {1, 2, 3}\n",
    "set2 = {3, 4, 5}\n",
    "difference_set = set1 - set2\n",
    "print(f\"Разность (set1 - set2): {difference_set}\")\n",
    "\n",
    "difference_set_2 = set2 - set1\n",
    "print(f\"Разность (set2 - set1): {difference_set_2}\")"
   ]
  },
  {
   "cell_type": "markdown",
   "metadata": {},
   "source": [
    "#### Симметрическая разность (Symmetric Difference)\n",
    "Создает новое множество, содержащее элементы, которые есть в одном из множеств, но не в обоих сразу. Оператор: `^`"
   ]
  },
  {
   "cell_type": "code",
   "execution_count": null,
   "metadata": {},
   "outputs": [],
   "source": [
    "set1 = {1, 2, 3}\n",
    "set2 = {3, 4, 5}\n",
    "sym_diff_set = set1 ^ set2\n",
    "print(f\"Симметрическая разность: {sym_diff_set}\")"
   ]
  },
  {
   "cell_type": "markdown",
   "metadata": {},
   "source": [
    "## Итог: Сравнительная таблица"
   ]
  },
  {
   "cell_type": "markdown",
   "metadata": {},
   "source": [
    "| Структура | Синтаксис | Изменяемость | Упорядоченность | Ключевая особенность |\n",
    "|:---:|:---:|:---:|:---:|:---|\n",
    "| **Список (List)** | `[1, 'a', 2]` | Да | Да | Универсальная, изменяемая коллекция |\n",
    "| **Кортеж (Tuple)** | `(1, 'a', 2)` | **Нет** | Да | Неизменяемая, \"защищенная\" версия списка |\n",
    "| **Словарь (Dict)**| `{'k1': 1, 'k2': 2}` | Да | Да (с Python 3.7) | Хранение пар \"ключ-значение\" |\n",
    "| **Множество (Set)**| `{1, 'a', 2}` или `set()`| Да | **Нет** | Хранение только **уникальных** элементов |"
   ]
  }
 ],
 "metadata": {
  "kernelspec": {
   "display_name": "Python [conda env:base] *",
   "language": "python",
   "name": "conda-base-py"
  },
  "language_info": {
   "codemirror_mode": {
    "name": "ipython",
    "version": 3
   },
   "file_extension": ".py",
   "mimetype": "text/x-python",
   "name": "python",
   "nbconvert_exporter": "python",
   "pygments_lexer": "ipython3",
   "version": "3.13.5"
  }
 },
 "nbformat": 4,
 "nbformat_minor": 4
}
