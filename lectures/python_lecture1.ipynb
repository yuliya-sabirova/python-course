{
 "cells": [
  {
   "cell_type": "markdown",
   "metadata": {},
   "source": [
    "# Лекция №1: Введение в Python. Основы синтаксиса, переменные и работа с текстом\n",
    "\n",
    "**Цели лекции:**\n",
    "*   Познакомиться с базовым синтаксисом Python.\n",
    "*   Научиться использовать переменные для хранения данных и понимать их типы.\n",
    "*   Освоить функции ввода-вывода для взаимодействия с пользователем.\n",
    "*   Изучить основы работы со строками: от создания до базовых операций."
   ]
  },
  {
   "cell_type": "markdown",
   "metadata": {},
   "source": [
    "## Часть 1: Первые шаги в Python\n",
    "\n",
    "### 1.1. Функция `print()` – Наш способ общаться с миром\n",
    "\n",
    "Функция `print()` выводит на экран информацию, которую мы ей передаем. Это основной инструмент для отображения результатов работы программы."
   ]
  },
  {
   "cell_type": "code",
   "execution_count": null,
   "metadata": {},
   "outputs": [],
   "source": [
    "# Чтобы вывести текст (строку), его нужно заключить в кавычки.\n",
    "print(\"Привет, мир!\")"
   ]
  },
  {
   "cell_type": "markdown",
   "metadata": {},
   "source": [
    "Можно выводить несколько значений за один вызов `print()`, перечислив их через запятую. Python автоматически вставит между ними пробел."
   ]
  },
  {
   "cell_type": "code",
   "execution_count": null,
   "metadata": {},
   "outputs": [],
   "source": [
    "print(\"Мне\", 20, \"лет\")"
   ]
  },
  {
   "cell_type": "markdown",
   "metadata": {},
   "source": [
    "### 1.2. Нюансы синтаксиса: Кавычки и Комментарии\n",
    "\n",
    "#### Кавычки\n",
    "В Python для создания строк можно использовать как одинарные (`'`), так и двойные (`\"`) кавычки. Разницы между ними нет. Главное — использовать один и тот же тип для открытия и закрытия строки."
   ]
  },
  {
   "cell_type": "code",
   "execution_count": null,
   "metadata": {},
   "outputs": [],
   "source": [
    "print('Это строка в одинарных кавычках.')\n",
    "print(\"Это строка в двойных кавычках.\")"
   ]
  },
  {
   "cell_type": "markdown",
   "metadata": {},
   "source": [
    "Для создания многострочного текста используются **тройные** кавычки (либо `'''`, либо `\"\"\"`)."
   ]
  },
  {
   "cell_type": "code",
   "execution_count": null,
   "metadata": {},
   "outputs": [],
   "source": [
    "poem = \"\"\"Это первая строка.\n",
    "А это вторая.\n",
    "И даже третья.\"\"\"\n",
    "print(poem)"
   ]
  },
  {
   "cell_type": "markdown",
   "metadata": {},
   "source": [
    "#### Комментарии\n",
    "Комментарий — это текст в коде, который предназначен для человека, а не для компьютера. Интерпретатор Python полностью его игнорирует.\n",
    "\n",
    "Однострочный комментарий начинается с символа `#`."
   ]
  },
  {
   "cell_type": "code",
   "execution_count": null,
   "metadata": {},
   "outputs": [],
   "source": [
    "# Эта строка - комментарий, и она не будет выполнена\n",
    "print(\"Эта строка будет выведена на экран\") # А это комментарий в конце строки"
   ]
  },
  {
   "cell_type": "markdown",
   "metadata": {},
   "source": [
    "Для многострочных комментариев часто используют тройные кавычки, хотя технически это является многострочной строкой, которую мы просто нигде не используем."
   ]
  },
  {
   "cell_type": "code",
   "execution_count": null,
   "metadata": {},
   "outputs": [],
   "source": [
    "\"\"\"\n",
    "Это многострочный комментарий.\n",
    "Он полезен для длинных пояснений к коду.\n",
    "Интерпретатор его также проигнорирует.\n",
    "\"\"\"\n",
    "print(\"Комментарии выше не повлияли на эту строку.\")"
   ]
  },
  {
   "cell_type": "markdown",
   "metadata": {},
   "source": [
    "### 1.3. Переменные и типы данных\n",
    "\n",
    "**Переменная** — это именованное хранилище для данных.\n",
    "\n",
    "Основные типы данных, с которыми мы начнем работать:\n",
    "*   **`int`** — целые числа (10, -5).\n",
    "*   **`float`** — дробные числа (3.14, -0.5).\n",
    "*   **`str`** — строки (текст)."
   ]
  },
  {
   "cell_type": "code",
   "execution_count": null,
   "metadata": {},
   "outputs": [],
   "source": [
    "student_name = \"Алексей\"\n",
    "age = 20\n",
    "gpa = 3.8\n",
    "\n",
    "print(\"Имя:\", student_name)\n",
    "print(\"Возраст:\", age)\n",
    "print(\"Средний балл:\", gpa)"
   ]
  },
  {
   "cell_type": "markdown",
   "metadata": {},
   "source": [
    "### 1.4. Ввод данных от пользователя\n",
    "\n",
    "Функция `input()` запрашивает данные у пользователя. **Важно:** она всегда возвращает строку (`str`). Для математических операций эти данные нужно преобразовывать в числовые типы с помощью `int()` или `float()`."
   ]
  },
  {
   "cell_type": "code",
   "execution_count": null,
   "metadata": {},
   "outputs": [],
   "source": [
    "# Запрашиваем данные\n",
    "age_str = input(\"Введите ваш возраст: \")\n",
    "\n",
    "# Преобразуем строку в число\n",
    "age_int = int(age_str)\n",
    "\n",
    "# Теперь можем выполнять вычисления\n",
    "next_year_age = age_int + 1\n",
    "\n",
    "print(\"В следующем году вам будет:\", next_year_age)"
   ]
  },
  {
   "cell_type": "code",
   "execution_count": null,
   "metadata": {},
   "outputs": [],
   "source": [
    "#Если не преобразовавыть, выйдет ошибка\n",
    "age_str = input(\"Введите ваш возраст: \")\n",
    "next_year_age = age_str + 1\n",
    "print(\"В следующем году вам будет:\", next_year_age)"
   ]
  },
  {
   "cell_type": "code",
   "execution_count": null,
   "metadata": {},
   "outputs": [],
   "source": [
    "#Как сделать то же самое кратко без лишних переменных. Лишние переменные создавалить для вас, чтобы вам вначале было понятнее. Обычно при программировании стараются записать наиболее оптимально\n",
    "age = input(\"Введите ваш возраст: \")\n",
    "print(\"В следующем году вам будет:\", int(age)+1)"
   ]
  },
  {
   "cell_type": "code",
   "execution_count": null,
   "metadata": {},
   "outputs": [],
   "source": [
    "age = int(input(\"Введите ваш возраст: \"))\n",
    "print(\"В следующем году вам будет:\", age + 1)"
   ]
  },
  {
   "cell_type": "markdown",
   "metadata": {},
   "source": [
    "### 1.5. Арифметические операции\n",
    "\n",
    "\n",
    "\n",
    "Python поддерживает все стандартные математические операции:\n",
    "- `+` (сложение)\n",
    "- `-` (вычитание)\n",
    "- `*` (умножение)\n",
    "- `/` (обычное деление, результат всегда `float`)\n",
    "- `//` (целочисленное деление, отбрасывает дробную часть)\n",
    "- `%` (остаток от деления)\n",
    "- `**` (возведение в степень)"
   ]
  },
  {
   "cell_type": "markdown",
   "metadata": {},
   "source": [
    "#### Сложение, вычитание, умножение"
   ]
  },
  {
   "cell_type": "code",
   "execution_count": null,
   "metadata": {},
   "outputs": [],
   "source": [
    "a = 15\n",
    "b = 4\n",
    "result = a + b * 2 # Python соблюдает порядок операций\n",
    "print(\"Результат:\", result)"
   ]
  },
  {
   "cell_type": "markdown",
   "metadata": {},
   "source": [
    "#### Деление\n",
    "Обычное деление (`/`) всегда возвращает `float`."
   ]
  },
  {
   "cell_type": "code",
   "execution_count": null,
   "metadata": {},
   "outputs": [],
   "source": [
    "result = 10 / 4\n",
    "print(\"10 / 4 =\", result)"
   ]
  },
  {
   "cell_type": "markdown",
   "metadata": {},
   "source": [
    "Целочисленное деление (`//`) отбрасывает дробную часть."
   ]
  },
  {
   "cell_type": "code",
   "execution_count": null,
   "metadata": {},
   "outputs": [],
   "source": [
    "result = 10 // 4\n",
    "print(\"10 // 4 =\", result)"
   ]
  },
  {
   "cell_type": "markdown",
   "metadata": {},
   "source": [
    "Взятие остатка от деления (`%`)."
   ]
  },
  {
   "cell_type": "code",
   "execution_count": null,
   "metadata": {},
   "outputs": [],
   "source": [
    "result = 10 % 4\n",
    "print(\"Остаток от деления 10 на 4:\", result)"
   ]
  },
  {
   "cell_type": "markdown",
   "metadata": {},
   "source": [
    "## Часть 2: Работа со строками\n",
    "\n",
    "### 2.1. Форматирование строк: f-строки\n",
    "\n",
    "Мы уже видели, как выводить текст и переменные через запятую. Но есть более современный и мощный способ — **f-строки**. Они позволяют встраивать переменные и даже целые выражения прямо в текст.\n",
    "\n",
    "Для этого нужно поставить букву `f` перед открывающей кавычкой, а имя переменной или выражение заключить в фигурные скобки `{}`."
   ]
  },
  {
   "cell_type": "code",
   "execution_count": null,
   "metadata": {},
   "outputs": [],
   "source": [
    "name = \"Мария\"\n",
    "age = 22\n",
    "\n",
    "# Использование f-строки\n",
    "print(f\"Студентку зовут {name}, ей {age} года.\")\n",
    "\n",
    "# Внутри скобок можно даже производить вычисления!\n",
    "print(f\"Через 5 лет ей будет {age + 5} лет.\")"
   ]
  },
  {
   "cell_type": "markdown",
   "metadata": {},
   "source": [
    "**Важно!** Без `f` перед строкой фигурные скобки — это просто символы."
   ]
  },
  {
   "cell_type": "code",
   "execution_count": null,
   "metadata": {},
   "outputs": [],
   "source": [
    "name = \"Мария\"\n",
    "print(f\"С f-строкой: Привет, {name}!\")\n",
    "print(\"Без f-строки: Привет, {name}!\")"
   ]
  },
  {
   "cell_type": "markdown",
   "metadata": {},
   "source": [
    "### 2.2. Управляющие последовательности\n",
    "\n",
    "Это специальные комбинации символов, которые управляют отображением текста:\n",
    "*   `\\n` — **перенос на новую строку**.\n",
    "*   `\\t` — **табуляция** (большой отступ)."
   ]
  },
  {
   "cell_type": "code",
   "execution_count": null,
   "metadata": {},
   "outputs": [],
   "source": [
    "print(\"Первая строка.\\nВторая строка.\")"
   ]
  },
  {
   "cell_type": "code",
   "execution_count": null,
   "metadata": {},
   "outputs": [],
   "source": [
    "print(\"Колонка1\\tКолонка2\\tКолонка3\")\n",
    "print(\"1\\t\\t2\\t\\t3\")"
   ]
  },
  {
   "cell_type": "markdown",
   "metadata": {},
   "source": [
    "### 2.3. Индексация и срезы\n",
    "\n",
    "Строка — это последовательность символов. Мы можем получить доступ к любому символу по его **индексу** (номеру). **Нумерация начинается с 0!**"
   ]
  },
  {
   "cell_type": "code",
   "execution_count": null,
   "metadata": {},
   "outputs": [],
   "source": [
    "my_string = \"Программирование\"\n",
    "\n",
    "first_char = my_string[0] # Получаем первый символ\n",
    "print(f\"Первый символ: {first_char}\")\n",
    "\n",
    "last_char = my_string[-1] # Отрицательный индекс -1 всегда указывает на последний символ\n",
    "print(f\"Последний символ: {last_char}\")"
   ]
  },
  {
   "cell_type": "markdown",
   "metadata": {},
   "source": [
    "**Срез** (`[старт:стоп:шаг]`) позволяет получить часть строки. Элемент с индексом `стоп` в срез не включается."
   ]
  },
  {
   "cell_type": "code",
   "execution_count": null,
   "metadata": {},
   "outputs": [],
   "source": [
    "my_string = \"Программирование\"\n",
    "\n",
    "substring = my_string[0:6] # Получаем символы с 0-го по 5-й включительно\n",
    "print(f\"Подстрока: {substring}\")\n",
    "print(f\"Строка наоборот: {my_string[::-1]}\") # Срез с шагом -1"
   ]
  },
  {
   "cell_type": "markdown",
   "metadata": {},
   "source": [
    "### 2.4. Основные методы строк\n",
    "Методы — это встроенные в объект (в нашем случае, в строку) функции. Они вызываются через точку.\n",
    "\n",
    "*   `len(строка)` — возвращает длину строки.\n",
    "*   `.upper()` / `.lower()` — приводят строку к верхнему / нижнему регистру.\n",
    "*   `.strip()` — убирает пробелы в начале и в конце строки.\n",
    "*   `.replace(старое, новое)` — заменяет все вхождения одной подстроки на другую.\n",
    "*   `.split(разделитель)` — разбивает строку на список по указанному разделителю."
   ]
  },
  {
   "cell_type": "code",
   "execution_count": null,
   "metadata": {},
   "outputs": [],
   "source": [
    "text = \"Python\"\n",
    "print(f\"Длина слова '{text}' составляет {len(text)} символов.\")"
   ]
  },
  {
   "cell_type": "markdown",
   "metadata": {},
   "source": [
    "`.upper()` и `.lower()` — приводят строку к верхнему и нижнему регистру."
   ]
  },
  {
   "cell_type": "code",
   "execution_count": null,
   "metadata": {},
   "outputs": [],
   "source": [
    "text = \"сМеШаНнЫй РегиСтр\"\n",
    "print(f\"ВЕРХНИЙ: {text.upper()}\")\n",
    "print(f\"нижний: {text.lower()}\")"
   ]
  },
  {
   "cell_type": "markdown",
   "metadata": {},
   "source": [
    "`.replace(старое, новое)` — заменяет подстроки."
   ]
  },
  {
   "cell_type": "code",
   "execution_count": null,
   "metadata": {},
   "outputs": [],
   "source": [
    "sentence = \"Я люблю изучать Java.\"\n",
    "corrected_sentence = sentence.replace(\"Java\", \"Python\")\n",
    "print(corrected_sentence)"
   ]
  },
  {
   "cell_type": "code",
   "execution_count": null,
   "metadata": {},
   "outputs": [],
   "source": [
    "date_str = \"25-12-2024\"\n",
    "date_parts = date_str.split(\"-\")\n",
    "print(f\"Список частей: {date_parts}\")"
   ]
  },
  {
   "cell_type": "code",
   "execution_count": null,
   "metadata": {},
   "outputs": [],
   "source": [
    "text = \"   лишние пробелы   \"\n",
    "print(f\"Очищенная строка: '{text.strip()}'\")"
   ]
  }
 ],
 "metadata": {
  "kernelspec": {
   "display_name": "Python [conda env:base] *",
   "language": "python",
   "name": "conda-base-py"
  },
  "language_info": {
   "codemirror_mode": {
    "name": "ipython",
    "version": 3
   },
   "file_extension": ".py",
   "mimetype": "text/x-python",
   "name": "python",
   "nbconvert_exporter": "python",
   "pygments_lexer": "ipython3",
   "version": "3.13.5"
  }
 },
 "nbformat": 4,
 "nbformat_minor": 4
}
